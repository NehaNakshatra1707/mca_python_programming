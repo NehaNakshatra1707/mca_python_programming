{
 "cells": [
  {
   "cell_type": "code",
   "execution_count": null,
   "id": "d10d906a",
   "metadata": {},
   "outputs": [
    {
     "name": "stdout",
     "output_type": "stream",
     "text": [
      "\n",
      "Before swapping\n",
      "a= 6\n",
      "b= 10\n",
      "\n",
      "After swapping\n",
      "a= 10\n",
      "b= 6\n"
     ]
    }
   ],
   "source": [
    "a=int(input(\"enter the value:\"))\n",
    "b=int(input(\"enter the value:\"))\n",
    "print(\"\\nBefore swapping\")\n",
    "print(\"a=\",a)\n",
    "print(\"b=\",b)\n",
    "temp=a\n",
    "a=b\n",
    "b=temp\n",
    "print(\"\\nAfter swapping\")\n",
    "print(\"a=\",a)\n",
    "print(\"b=\",b)"
   ]
  },
  {
   "cell_type": "code",
   "execution_count": null,
   "id": "180137f4",
   "metadata": {},
   "outputs": [
    {
     "name": "stdout",
     "output_type": "stream",
     "text": [
      "result: 9\n"
     ]
    }
   ],
   "source": [
    "num1=input(\"enter the first value:\")\n",
    "operator=input(\"enter the operator(+,-,*,/):\")\n",
    "num2=input(\"enter the second value:\")\n",
    "result=eval(num1+operator+num2)\n",
    "print(\"result:\",result)"
   ]
  },
  {
   "cell_type": "code",
   "execution_count": 7,
   "id": "85ff7ffa",
   "metadata": {},
   "outputs": [
    {
     "name": "stdout",
     "output_type": "stream",
     "text": [
      "Integer value: 34, Type: <class 'int'>\n",
      "Float value: 34.0, Type: <class 'float'>\n"
     ]
    }
   ],
   "source": [
    "num_str = input(\"Enter a number: \")\n",
    "num_int = int(num_str)\n",
    "num_float = float(num_str)\n",
    "print(f\"Integer value: {num_int}, Type: {type(num_int)}\")\n",
    "print(f\"Float value: {num_float}, Type: {type(num_float)}\")"
   ]
  },
  {
   "cell_type": "code",
   "execution_count": 4,
   "id": "801c3bd6",
   "metadata": {},
   "outputs": [
    {
     "name": "stdout",
     "output_type": "stream",
     "text": [
      "Root 1 = (-0.16911764705882348+0.8915877036040779j)\n",
      "Root 2 = (-0.1691176470588236-0.8915877036040779j)\n"
     ]
    }
   ],
   "source": [
    "a=float(input(\"enter a:\"))\n",
    "b=float(input(\"Enter b: \"))\n",
    "c=float(input(\"Enter c: \"))\n",
    "D=b**2-4*a*c\n",
    "D=complex(D,0)\n",
    "sqrt_D=D**0.5\n",
    "root1=(-b + sqrt_D) / (2*a)\n",
    "root2=(-b - sqrt_D) / (2*a)\n",
    "print(\"Root 1 =\", root1)\n",
    "print(\"Root 2 =\", root2)\n",
    "\n"
   ]
  },
  {
   "cell_type": "code",
   "execution_count": 6,
   "id": "99e09302",
   "metadata": {},
   "outputs": [
    {
     "name": "stdout",
     "output_type": "stream",
     "text": [
      "Name:neha,age:20years,height:153.76cm\n"
     ]
    }
   ],
   "source": [
    "name=str(input(\"enter the name:\"))\n",
    "age=int(input(\"enter the age:\"))\n",
    "height=float(input(\"enter the value:\"))\n",
    "print(f\"Name:{name},age:{age}years,height:{height}cm\")"
   ]
  },
  {
   "cell_type": "code",
   "execution_count": 8,
   "id": "7f538b5e",
   "metadata": {},
   "outputs": [
    {
     "name": "stdout",
     "output_type": "stream",
     "text": [
      "Result = 624.82\n"
     ]
    }
   ],
   "source": [
    "num1 = float(input(\"Enter first number: \"))\n",
    "num2 = float(input(\"Enter second number: \"))\n",
    "num3 = float(input(\"Enter third number: \"))\n",
    "result = ((num1 + num2) * num3) / (num1 - num2)\n",
    "print(\"Result =\", round(result, 2))"
   ]
  },
  {
   "cell_type": "code",
   "execution_count": 9,
   "id": "b2cb01cd",
   "metadata": {},
   "outputs": [
    {
     "name": "stdout",
     "output_type": "stream",
     "text": [
      "the sum of num1 and num2 is: 160\n"
     ]
    }
   ],
   "source": [
    "num1=int(input(\"enter first number:\"))\n",
    "num2=int(input(\"enter second number\"))\n",
    "sum=num1+num2\n",
    "print(\"the sum of num1 and num2 is:\",sum)"
   ]
  },
  {
   "cell_type": "code",
   "execution_count": 12,
   "id": "9ec290ec",
   "metadata": {},
   "outputs": [
    {
     "name": "stdout",
     "output_type": "stream",
     "text": [
      "uppercase name is NEHA\n"
     ]
    }
   ],
   "source": [
    "name=str(input(\"enter the name\"))\n",
    "uppercase=name.upper()\n",
    "print(\"uppercase name is\",uppercase)"
   ]
  },
  {
   "cell_type": "code",
   "execution_count": 16,
   "id": "9a654590",
   "metadata": {},
   "outputs": [
    {
     "name": "stdout",
     "output_type": "stream",
     "text": [
      "square of 8 is 64\n"
     ]
    }
   ],
   "source": [
    "num=int(input(\"enter the number\"))\n",
    "squrt=num**2\n",
    "print(\"square of\",num,\"is\",squrt)"
   ]
  },
  {
   "cell_type": "code",
   "execution_count": 3,
   "id": "feb5a18a",
   "metadata": {},
   "outputs": [
    {
     "name": "stdout",
     "output_type": "stream",
     "text": [
      "string1: neha\n",
      "string2 nakshatra\n",
      "concatenation: nehanakshatra\n"
     ]
    }
   ],
   "source": [
    "a=str(input(\"enter the string:\"))\n",
    "b=str(input(\"enter the string:\"))\n",
    "c=a+b\n",
    "print(\"string1:\",a)\n",
    "print(\"string2\",b)\n",
    "print(\"concatenation:\",c)"
   ]
  },
  {
   "cell_type": "code",
   "execution_count": 20,
   "id": "6a3222a9",
   "metadata": {},
   "outputs": [
    {
     "name": "stdout",
     "output_type": "stream",
     "text": [
      "integer equivalent of 76.98 is 76\n"
     ]
    }
   ],
   "source": [
    "float_num=float(input(\"enter the number:\"))\n",
    "int_num=int(float_num)\n",
    "print(\"integer equivalent of\",float_num,\"is\",int_num)"
   ]
  },
  {
   "cell_type": "code",
   "execution_count": 22,
   "id": "968962e5",
   "metadata": {},
   "outputs": [
    {
     "name": "stdout",
     "output_type": "stream",
     "text": [
      "you are 20 years old\n"
     ]
    }
   ],
   "source": [
    "age=int(input(\"enter the age\"))\n",
    "print(f\"you are {age} years old\")\n"
   ]
  },
  {
   "cell_type": "code",
   "execution_count": 23,
   "id": "37eb06a7",
   "metadata": {},
   "outputs": [
    {
     "name": "stdout",
     "output_type": "stream",
     "text": [
      "product of 65 and 23 is 1495\n"
     ]
    }
   ],
   "source": [
    "num1=int(input(\"enter the first number:\"))\n",
    "num2=int(input(\"enter the second number:\"))\n",
    "product=num1*num2\n",
    "print(f\"product of {num1} and {num2} is {product}\")"
   ]
  },
  {
   "cell_type": "code",
   "execution_count": 27,
   "id": "4e99679e",
   "metadata": {},
   "outputs": [
    {
     "name": "stdout",
     "output_type": "stream",
     "text": [
      "sentence: all the best\n",
      "length of the given sentence is 12\n"
     ]
    }
   ],
   "source": [
    "sentence=str(input(\"enter the sentence\"))\n",
    "length=len(sentence)\n",
    "print(\"sentence:\",sentence)\n",
    "print(f\"length of the given sentence is {length}\")"
   ]
  },
  {
   "cell_type": "code",
   "execution_count": 55,
   "id": "f9839b53",
   "metadata": {},
   "outputs": [
    {
     "name": "stdout",
     "output_type": "stream",
     "text": [
      "The average is: 16.0\n"
     ]
    }
   ],
   "source": [
    "num1 = int(input(\"Enter first number: \"))\n",
    "num2 = int(input(\"Enter second number: \"))\n",
    "num3 = int(input(\"Enter third number: \"))\n",
    "average = num1+num2+num3/3\n",
    "print(\"The average is:\", average)\n",
    "\n"
   ]
  },
  {
   "cell_type": "code",
   "execution_count": 37,
   "id": "1b221361",
   "metadata": {},
   "outputs": [
    {
     "name": "stdout",
     "output_type": "stream",
     "text": [
      "the absolute value of -76 is 76\n"
     ]
    }
   ],
   "source": [
    "num=int(input(\"enter the value:\"))\n",
    "absolute_value=abs(num)\n",
    "print(\"the absolute value of\",num,\"is\",absolute_value)"
   ]
  },
  {
   "cell_type": "code",
   "execution_count": 39,
   "id": "2d9c2088",
   "metadata": {},
   "outputs": [
    {
     "name": "stdout",
     "output_type": "stream",
     "text": [
      "the difference between 100 and 60 is 40\n"
     ]
    }
   ],
   "source": [
    "num1=int(input(\"enter the first value:\"))\n",
    "num2=int(input(\"enter the second value:\"))\n",
    "difference=num1-num2\n",
    "print(\"the difference between\",num1, \"and\",num2,\"is\",difference)\n"
   ]
  },
  {
   "cell_type": "code",
   "execution_count": 41,
   "id": "03cb2583",
   "metadata": {},
   "outputs": [
    {
     "name": "stdout",
     "output_type": "stream",
     "text": [
      "neha\n",
      "Reversed string: ahen\n"
     ]
    }
   ],
   "source": [
    "text=str(input(\"Enter a string:\"))\n",
    "reversed_text= text[::-1]\n",
    "print(text)\n",
    "print(\"Reversed string:\", reversed_text)"
   ]
  },
  {
   "cell_type": "code",
   "execution_count": 43,
   "id": "adca92e8",
   "metadata": {},
   "outputs": [
    {
     "name": "stdout",
     "output_type": "stream",
     "text": [
      "height in cm : 153.45\n",
      "height in meters : 1.5345\n"
     ]
    }
   ],
   "source": [
    "height=float(input(\"enter the height:\"))\n",
    "converted_height=height/100\n",
    "print(\"height in cm :\",height)\n",
    "print(\"height in meters :\",converted_height)"
   ]
  },
  {
   "cell_type": "code",
   "execution_count": 44,
   "id": "e76325c6",
   "metadata": {},
   "outputs": [
    {
     "name": "stdout",
     "output_type": "stream",
     "text": [
      "quotient of 26 and 2 is 13.0\n"
     ]
    }
   ],
   "source": [
    "num1=int(input(\"enter the first value:\"))\n",
    "num2=int(input(\"enter the second value:\"))\n",
    "quotient=num1/num2\n",
    "print(\"quotient of\",num1,\"and\",num2,\"is\",quotient)\n",
    "\n"
   ]
  },
  {
   "cell_type": "code",
   "execution_count": 45,
   "id": "1a8c6f81",
   "metadata": {},
   "outputs": [
    {
     "name": "stdout",
     "output_type": "stream",
     "text": [
      "\"name\"\n"
     ]
    }
   ],
   "source": [
    "name=str(input(\"enter the name\"))\n",
    "print(f'\"name\"')"
   ]
  },
  {
   "cell_type": "code",
   "execution_count": 49,
   "id": "c4b5f263",
   "metadata": {},
   "outputs": [
    {
     "name": "stdout",
     "output_type": "stream",
     "text": [
      "result of 78.4567 after rounding off to 2 decimal points is 78.46\n"
     ]
    }
   ],
   "source": [
    "number=float(input(\"enter the value:\"))\n",
    "result=round(number,2)\n",
    "print(\"result of\",number,\"after rounding off to 2 decimal points is\",result)"
   ]
  },
  {
   "cell_type": "code",
   "execution_count": 52,
   "id": "3094eec5",
   "metadata": {},
   "outputs": [
    {
     "name": "stdout",
     "output_type": "stream",
     "text": [
      "neha   nakshatra\n"
     ]
    }
   ],
   "source": [
    "str1=str(input(\"enter the string:\"))\n",
    "str2=str(input(\"enter the string:\"))\n",
    "print(f\"{str1}   {str2}\")"
   ]
  },
  {
   "cell_type": "code",
   "execution_count": 53,
   "id": "43f5f737",
   "metadata": {},
   "outputs": [
    {
     "name": "stdout",
     "output_type": "stream",
     "text": [
      "34\n",
      "type: <class 'int'>\n"
     ]
    }
   ],
   "source": [
    "value=int(input(\"enter the value\"))\n",
    "result=type(value)\n",
    "print(value)\n",
    "print(\"type:\",result)"
   ]
  },
  {
   "cell_type": "code",
   "execution_count": 1,
   "id": "722e5d28",
   "metadata": {},
   "outputs": [
    {
     "name": "stdout",
     "output_type": "stream",
     "text": [
      "sum of numbers is 135\n",
      "product of numbers is 91125\n"
     ]
    }
   ],
   "source": [
    "num1=int(input(\"enter the first value:\"))\n",
    "num2=int(input(\"enter the second value:\"))\n",
    "num3=int(input(\"enter the third value:\"))\n",
    "sum=num1+num2+num3\n",
    "product=num1*num2*num3\n",
    "print(f\"sum of numbers is {sum}\")\n",
    "print(f\"product of numbers is {product}\")"
   ]
  },
  {
   "cell_type": "code",
   "execution_count": null,
   "id": "0c640d4d",
   "metadata": {},
   "outputs": [],
   "source": []
  }
 ],
 "metadata": {
  "kernelspec": {
   "display_name": "Python 3",
   "language": "python",
   "name": "python3"
  },
  "language_info": {
   "codemirror_mode": {
    "name": "ipython",
    "version": 3
   },
   "file_extension": ".py",
   "mimetype": "text/x-python",
   "name": "python",
   "nbconvert_exporter": "python",
   "pygments_lexer": "ipython3",
   "version": "3.13.6"
  }
 },
 "nbformat": 4,
 "nbformat_minor": 5
}
