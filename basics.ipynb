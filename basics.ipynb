{
 "cells": [
  {
   "cell_type": "code",
   "execution_count": 1,
   "id": "088cf393",
   "metadata": {},
   "outputs": [
    {
     "data": {
      "text/plain": [
       "50.24"
      ]
     },
     "execution_count": 1,
     "metadata": {},
     "output_type": "execute_result"
    }
   ],
   "source": [
    "r=8\n",
    "pi=3.14\n",
    "circumference=2*pi*r\n",
    "circumference"
   ]
  },
  {
   "cell_type": "code",
   "execution_count": null,
   "id": "281e9ce3",
   "metadata": {},
   "outputs": [],
   "source": [
    "# arithmetic operators\n",
    "add +\n",
    "sub -\n",
    "mul *\n",
    "div /\n",
    "int div //\n",
    "Exp **\n",
    "mod %\n"
   ]
  },
  {
   "cell_type": "code",
   "execution_count": 1,
   "id": "f3e5c532",
   "metadata": {},
   "outputs": [
    {
     "data": {
      "text/plain": [
       "13"
      ]
     },
     "execution_count": 1,
     "metadata": {},
     "output_type": "execute_result"
    }
   ],
   "source": [
    "a=10\n",
    "b=3\n",
    "a+b"
   ]
  },
  {
   "cell_type": "code",
   "execution_count": 2,
   "id": "f845b006",
   "metadata": {},
   "outputs": [
    {
     "data": {
      "text/plain": [
       "3.3333333333333335"
      ]
     },
     "execution_count": 2,
     "metadata": {},
     "output_type": "execute_result"
    }
   ],
   "source": [
    "a/b"
   ]
  },
  {
   "cell_type": "code",
   "execution_count": 3,
   "id": "a59cc64b",
   "metadata": {},
   "outputs": [
    {
     "data": {
      "text/plain": [
       "3"
      ]
     },
     "execution_count": 3,
     "metadata": {},
     "output_type": "execute_result"
    }
   ],
   "source": [
    "a//b #quotient/int division"
   ]
  },
  {
   "cell_type": "code",
   "execution_count": 4,
   "id": "cd7e7a4d",
   "metadata": {},
   "outputs": [
    {
     "data": {
      "text/plain": [
       "1"
      ]
     },
     "execution_count": 4,
     "metadata": {},
     "output_type": "execute_result"
    }
   ],
   "source": [
    "a%b #remainder"
   ]
  },
  {
   "cell_type": "code",
   "execution_count": 5,
   "id": "34ba6673",
   "metadata": {},
   "outputs": [
    {
     "data": {
      "text/plain": [
       "1000"
      ]
     },
     "execution_count": 5,
     "metadata": {},
     "output_type": "execute_result"
    }
   ],
   "source": [
    "a**b #exponentiation"
   ]
  },
  {
   "cell_type": "code",
   "execution_count": null,
   "id": "d5f577bf",
   "metadata": {},
   "outputs": [
    {
     "data": {
      "text/plain": [
       "27.0"
      ]
     },
     "execution_count": 6,
     "metadata": {},
     "output_type": "execute_result"
    }
   ],
   "source": [
    "2+10/2*5 #operator precedence"
   ]
  },
  {
   "cell_type": "code",
   "execution_count": 7,
   "id": "56d84a7a",
   "metadata": {},
   "outputs": [
    {
     "data": {
      "text/plain": [
       "5.0"
      ]
     },
     "execution_count": 7,
     "metadata": {},
     "output_type": "execute_result"
    }
   ],
   "source": [
    "per=3\n",
    "base=4\n",
    "hyp=(per**2+base**2)**.5\n",
    "hyp"
   ]
  },
  {
   "cell_type": "code",
   "execution_count": 8,
   "id": "23425d88",
   "metadata": {},
   "outputs": [
    {
     "data": {
      "text/plain": [
       "48"
      ]
     },
     "execution_count": 8,
     "metadata": {},
     "output_type": "execute_result"
    }
   ],
   "source": [
    "x=10\n",
    "y=3*x+2*(x-1)\n",
    "y"
   ]
  },
  {
   "cell_type": "code",
   "execution_count": 1,
   "id": "e9d02358",
   "metadata": {},
   "outputs": [
    {
     "data": {
      "text/plain": [
       "3.875"
      ]
     },
     "execution_count": 1,
     "metadata": {},
     "output_type": "execute_result"
    }
   ],
   "source": [
    "values=2,4,5,6,1,2,5,6\n",
    "avg=sum(values)/len(values)\n",
    "avg\n"
   ]
  },
  {
   "cell_type": "code",
   "execution_count": null,
   "id": "e0fb9bb1",
   "metadata": {},
   "outputs": [],
   "source": [
    "#comparison operator\n",
    "< <= > >= == !="
   ]
  },
  {
   "cell_type": "code",
   "execution_count": 2,
   "id": "e1bdc7b8",
   "metadata": {},
   "outputs": [
    {
     "data": {
      "text/plain": [
       "False"
      ]
     },
     "execution_count": 2,
     "metadata": {},
     "output_type": "execute_result"
    }
   ],
   "source": [
    "x,y=12,13\n",
    "x>y"
   ]
  },
  {
   "cell_type": "code",
   "execution_count": 3,
   "id": "a2685ae2",
   "metadata": {},
   "outputs": [
    {
     "data": {
      "text/plain": [
       "True"
      ]
     },
     "execution_count": 3,
     "metadata": {},
     "output_type": "execute_result"
    }
   ],
   "source": [
    "x==12"
   ]
  },
  {
   "cell_type": "code",
   "execution_count": 4,
   "id": "6fe8b7d1",
   "metadata": {},
   "outputs": [
    {
     "data": {
      "text/plain": [
       "True"
      ]
     },
     "execution_count": 4,
     "metadata": {},
     "output_type": "execute_result"
    }
   ],
   "source": [
    "y<=23"
   ]
  },
  {
   "cell_type": "code",
   "execution_count": 5,
   "id": "1169d6ab",
   "metadata": {},
   "outputs": [
    {
     "data": {
      "text/plain": [
       "True"
      ]
     },
     "execution_count": 5,
     "metadata": {},
     "output_type": "execute_result"
    }
   ],
   "source": [
    "x!=y"
   ]
  },
  {
   "cell_type": "code",
   "execution_count": 6,
   "id": "696bed4a",
   "metadata": {},
   "outputs": [
    {
     "data": {
      "text/plain": [
       "True"
      ]
     },
     "execution_count": 6,
     "metadata": {},
     "output_type": "execute_result"
    }
   ],
   "source": [
    "x=100\n",
    "1<=x<=100"
   ]
  },
  {
   "cell_type": "code",
   "execution_count": 7,
   "id": "7ad5df2d",
   "metadata": {},
   "outputs": [
    {
     "data": {
      "text/plain": [
       "True"
      ]
     },
     "execution_count": 7,
     "metadata": {},
     "output_type": "execute_result"
    }
   ],
   "source": [
    "x=100\n",
    "1<=x<=100"
   ]
  },
  {
   "cell_type": "code",
   "execution_count": 8,
   "id": "64ce3bae",
   "metadata": {},
   "outputs": [],
   "source": [
    "#logical operators AND OR NOT"
   ]
  },
  {
   "cell_type": "code",
   "execution_count": 9,
   "id": "a8d0f9a0",
   "metadata": {},
   "outputs": [
    {
     "data": {
      "text/plain": [
       "True"
      ]
     },
     "execution_count": 9,
     "metadata": {},
     "output_type": "execute_result"
    }
   ],
   "source": [
    "10==5 or 15==15"
   ]
  },
  {
   "cell_type": "code",
   "execution_count": 10,
   "id": "9bc303c8",
   "metadata": {},
   "outputs": [
    {
     "data": {
      "text/plain": [
       "False"
      ]
     },
     "execution_count": 10,
     "metadata": {},
     "output_type": "execute_result"
    }
   ],
   "source": [
    "15==15 and 12==11"
   ]
  },
  {
   "cell_type": "code",
   "execution_count": 11,
   "id": "c2f45287",
   "metadata": {},
   "outputs": [
    {
     "data": {
      "text/plain": [
       "False"
      ]
     },
     "execution_count": 11,
     "metadata": {},
     "output_type": "execute_result"
    }
   ],
   "source": [
    "15==14 and 12==11"
   ]
  },
  {
   "cell_type": "code",
   "execution_count": null,
   "id": "e70e625b",
   "metadata": {},
   "outputs": [],
   "source": []
  }
 ],
 "metadata": {
  "kernelspec": {
   "display_name": "Python 3",
   "language": "python",
   "name": "python3"
  },
  "language_info": {
   "codemirror_mode": {
    "name": "ipython",
    "version": 3
   },
   "file_extension": ".py",
   "mimetype": "text/x-python",
   "name": "python",
   "nbconvert_exporter": "python",
   "pygments_lexer": "ipython3",
   "version": "3.13.6"
  }
 },
 "nbformat": 4,
 "nbformat_minor": 5
}
