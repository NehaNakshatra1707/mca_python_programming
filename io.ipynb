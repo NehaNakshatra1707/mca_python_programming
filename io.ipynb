{
 "cells": [
  {
   "cell_type": "code",
   "execution_count": null,
   "id": "e57d0ee3",
   "metadata": {},
   "outputs": [],
   "source": [
    "name=\"neha\"           #static program\n",
    "city=\"tirupati\""
   ]
  },
  {
   "cell_type": "code",
   "execution_count": 2,
   "id": "61e25fb5",
   "metadata": {},
   "outputs": [
    {
     "data": {
      "text/plain": [
       "'neha'"
      ]
     },
     "execution_count": 2,
     "metadata": {},
     "output_type": "execute_result"
    }
   ],
   "source": [
    "name"
   ]
  },
  {
   "cell_type": "code",
   "execution_count": null,
   "id": "fdddafcb",
   "metadata": {},
   "outputs": [],
   "source": [
    "input() function is used for taking user input"
   ]
  },
  {
   "cell_type": "code",
   "execution_count": 3,
   "id": "78499657",
   "metadata": {},
   "outputs": [],
   "source": [
    "name=input()\n"
   ]
  },
  {
   "cell_type": "code",
   "execution_count": 6,
   "id": "7e4736f0",
   "metadata": {},
   "outputs": [
    {
     "ename": "TypeError",
     "evalue": "sum() takes at least 1 positional argument (0 given)",
     "output_type": "error",
     "traceback": [
      "\u001b[31m---------------------------------------------------------------------------\u001b[39m",
      "\u001b[31mTypeError\u001b[39m                                 Traceback (most recent call last)",
      "\u001b[36mCell\u001b[39m\u001b[36m \u001b[39m\u001b[32mIn[6]\u001b[39m\u001b[32m, line 1\u001b[39m\n\u001b[32m----> \u001b[39m\u001b[32m1\u001b[39m \u001b[38;5;28;43msum\u001b[39;49m\u001b[43m(\u001b[49m\u001b[43m)\u001b[49m\n",
      "\u001b[31mTypeError\u001b[39m: sum() takes at least 1 positional argument (0 given)"
     ]
    }
   ],
   "source": [
    "sum()"
   ]
  },
  {
   "cell_type": "code",
   "execution_count": 8,
   "id": "579383d9",
   "metadata": {},
   "outputs": [
    {
     "ename": "TypeError",
     "evalue": "len() takes exactly one argument (0 given)",
     "output_type": "error",
     "traceback": [
      "\u001b[31m---------------------------------------------------------------------------\u001b[39m",
      "\u001b[31mTypeError\u001b[39m                                 Traceback (most recent call last)",
      "\u001b[36mCell\u001b[39m\u001b[36m \u001b[39m\u001b[32mIn[8]\u001b[39m\u001b[32m, line 1\u001b[39m\n\u001b[32m----> \u001b[39m\u001b[32m1\u001b[39m \u001b[38;5;28;43mlen\u001b[39;49m\u001b[43m(\u001b[49m\u001b[43m)\u001b[49m\n",
      "\u001b[31mTypeError\u001b[39m: len() takes exactly one argument (0 given)"
     ]
    }
   ],
   "source": [
    "len()"
   ]
  },
  {
   "cell_type": "code",
   "execution_count": 10,
   "id": "fef16eb6",
   "metadata": {},
   "outputs": [
    {
     "name": "stdout",
     "output_type": "stream",
     "text": [
      "neha tirupati srinagar colony\n"
     ]
    }
   ],
   "source": [
    "name= input(\"enter name:\")\n",
    "city= input(\"enter city:\")\n",
    "addr= input(\"enter addr:\")\n",
    "print(name,city,addr)\n"
   ]
  },
  {
   "cell_type": "code",
   "execution_count": null,
   "id": "cebffa90",
   "metadata": {},
   "outputs": [
    {
     "name": "stdout",
     "output_type": "stream",
     "text": [
      "10 20 30\n"
     ]
    }
   ],
   "source": [
    "a=10      #static\n",
    "b=20\n",
    "c=a+b\n",
    "print(a,b,c)"
   ]
  },
  {
   "cell_type": "code",
   "execution_count": null,
   "id": "ab99e0ba",
   "metadata": {},
   "outputs": [
    {
     "name": "stdout",
     "output_type": "stream",
     "text": [
      "10 20 1020\n"
     ]
    }
   ],
   "source": [
    "a=input(\"enter the value:\")                #dynamic\n",
    "b=input(\"enter the value:\")\n",
    "c=a+b\n",
    "print(a,b,c)"
   ]
  },
  {
   "cell_type": "code",
   "execution_count": 14,
   "id": "3a78d4f5",
   "metadata": {},
   "outputs": [
    {
     "name": "stdout",
     "output_type": "stream",
     "text": [
      "10 20 30\n"
     ]
    }
   ],
   "source": [
    "a=int(input(\"enter the value:\"))          #dynamic input-> typecasted\n",
    "b=int(input(\"enter the value:\"))\n",
    "c=a+b\n",
    "print(a,b,c)"
   ]
  },
  {
   "cell_type": "code",
   "execution_count": 15,
   "id": "40aa2d19",
   "metadata": {},
   "outputs": [
    {
     "name": "stdout",
     "output_type": "stream",
     "text": [
      "5.5\n",
      "11.0\n",
      "34.54\n",
      "94.985\n"
     ]
    }
   ],
   "source": [
    "radius=float(input(\"enter the radius of a circle\"))\n",
    "diameter=radius*2\n",
    "circumference=2*3.14*radius\n",
    "area=3.14*radius**2\n",
    "\n",
    "print(radius)\n",
    "print(diameter)\n",
    "print(circumference)\n",
    "print(area)"
   ]
  },
  {
   "cell_type": "code",
   "execution_count": 18,
   "id": "8190fd2f",
   "metadata": {},
   "outputs": [
    {
     "name": "stdout",
     "output_type": "stream",
     "text": [
      "2000.0\n",
      "3.0\n",
      "7.5\n",
      "450.0\n"
     ]
    }
   ],
   "source": [
    "#simple interest\n",
    "p=float(input(\"enter the value:\"))\n",
    "r=float(input(\"enter the value:\"))\n",
    "t=float(input(\"enter the value:\"))\n",
    "si=p*r*t/100\n",
    "print(p)\n",
    "print(t)\n",
    "print(r)\n",
    "print(si)"
   ]
  },
  {
   "cell_type": "code",
   "execution_count": 21,
   "id": "459615cc",
   "metadata": {},
   "outputs": [
    {
     "name": "stdout",
     "output_type": "stream",
     "text": [
      "904.32\n"
     ]
    }
   ],
   "source": [
    "pi=3.14\n",
    "r=float(input(\"enter the value:\"))\n",
    "h=float(input(\"enter the value:\"))\n",
    "v=pi*r**2*h  \n",
    "print(v)"
   ]
  },
  {
   "cell_type": "code",
   "execution_count": null,
   "id": "48d4c4e7",
   "metadata": {},
   "outputs": [
    {
     "name": "stdout",
     "output_type": "stream",
     "text": [
      "this is an example\n",
      "one two three\n",
      "1 2 3 9\n",
      "apple/banana/oranges\n",
      "💗❣️🫶🏻😍\n"
     ]
    }
   ],
   "source": [
    "#formatting the output\n",
    "print(\"this is an example\")          #displaying the message\n",
    "print(\"one\",\"two\",\"three\")           #display multiple data value\n",
    "print(\"1\",\"2\",\"3\",4+5)               #displaying multiple data and expression\n",
    "print(\"apple\",\"banana\",\"oranges\",sep=\"/\")    #displaying multiple data with separator\n",
    "print(\"💗❣️🫶🏻😍\")\n"
   ]
  },
  {
   "cell_type": "code",
   "execution_count": 12,
   "id": "1bf65dba",
   "metadata": {},
   "outputs": [
    {
     "name": "stdout",
     "output_type": "stream",
     "text": [
      "1 2 3 4 5\n",
      "12345\n",
      "1,2,3,4,5\n",
      "1\n",
      "2\n",
      "3\n",
      "4\n",
      "5\n",
      "1hello world2hello world3hello world4hello world5\n",
      "1➡️2➡️3➡️4➡️5\n",
      "n✨e✨h✨a\n"
     ]
    }
   ],
   "source": [
    "print(1,2,3,4,5)            #separator\n",
    "print(1,2,3,4,5,sep=\"\")\n",
    "print(1,2,3,4,5,sep=\",\")\n",
    "print(1,2,3,4,5,sep=\"\\n\")\n",
    "print(1,2,3,4,5,sep=\"hello world\")\n",
    "print(1,2,3,4,5,sep=\"➡️\")\n",
    "print(*\"neha\",sep=\"✨\")\n"
   ]
  },
  {
   "cell_type": "code",
   "execution_count": 19,
   "id": "0b2b515a",
   "metadata": {},
   "outputs": [
    {
     "name": "stdout",
     "output_type": "stream",
     "text": [
      "130\n",
      "answer 130\n",
      "answer 130\n",
      "answer 130\n",
      "100+30=>130\n",
      "answer130\n",
      "100+30=130\n"
     ]
    }
   ],
   "source": [
    "a=100\n",
    "b=30\n",
    "c=a+b\n",
    "print(c)\n",
    "print(\"answer \"+str(c))   #c is converted into string(str+str),otherwise it will give error\n",
    "print(\"answer\",c)\n",
    "print(\"answer %d\"%c)        # not the best way\n",
    "print(\"%d+%d=>%d\"%(a,b,c))  #also very complicated \n",
    "print(\"answer{}\".format(c))  #old way\n",
    "print(\"{}+{}={}\".format(a,b,c)) #old way"
   ]
  },
  {
   "cell_type": "code",
   "execution_count": null,
   "id": "19050451",
   "metadata": {},
   "outputs": [
    {
     "name": "stdout",
     "output_type": "stream",
     "text": [
      "answer 130\n",
      "100 +30 =130\n"
     ]
    }
   ],
   "source": [
    "#Final actual way to format output using f-string\n",
    "a=100\n",
    "b=30\n",
    "c=a+b\n",
    "print(f\"answer {c}\")\n",
    "print(f\"{a} +{b} ={c}\")   #f-string/formattable string\n"
   ]
  },
  {
   "cell_type": "code",
   "execution_count": 25,
   "id": "d08a6e89",
   "metadata": {},
   "outputs": [
    {
     "name": "stdout",
     "output_type": "stream",
     "text": [
      "we get 130,when we add 100 and 30\n"
     ]
    }
   ],
   "source": [
    "print(f'we get {c},when we add {a} and {b}')"
   ]
  },
  {
   "cell_type": "code",
   "execution_count": 27,
   "id": "cc74a97c",
   "metadata": {},
   "outputs": [
    {
     "name": "stdout",
     "output_type": "stream",
     "text": [
      "my name is neha, i work as a spy in echeleon \n"
     ]
    }
   ],
   "source": [
    "name=\"neha\"\n",
    "job=\"spy\"\n",
    "company=\"echeleon\"\n",
    "print(f\"my name is {name}, i work as a {job} in {company} \")"
   ]
  },
  {
   "cell_type": "code",
   "execution_count": 28,
   "id": "ff25ecb2",
   "metadata": {},
   "outputs": [
    {
     "name": "stdout",
     "output_type": "stream",
     "text": [
      "calculation of hypotenuse\n",
      "perpendicular =>20\n",
      "base => 10\n",
      "based on pythagoras theorem:\n",
      "hypotenuse => 22.360679774997898\n"
     ]
    }
   ],
   "source": [
    "p=20\n",
    "b=10\n",
    "h=(p**2 + b**2)**.5\n",
    "print(\"calculation of hypotenuse\")\n",
    "print(f\"perpendicular =>{p}\")\n",
    "print(f\"base => {b}\")\n",
    "print(\"based on pythagoras theorem:\")\n",
    "print(f\"hypotenuse => {h}\")"
   ]
  },
  {
   "cell_type": "code",
   "execution_count": null,
   "id": "b4d100e9",
   "metadata": {},
   "outputs": [],
   "source": []
  }
 ],
 "metadata": {
  "kernelspec": {
   "display_name": "Python 3",
   "language": "python",
   "name": "python3"
  },
  "language_info": {
   "codemirror_mode": {
    "name": "ipython",
    "version": 3
   },
   "file_extension": ".py",
   "mimetype": "text/x-python",
   "name": "python",
   "nbconvert_exporter": "python",
   "pygments_lexer": "ipython3",
   "version": "3.13.6"
  }
 },
 "nbformat": 4,
 "nbformat_minor": 5
}
