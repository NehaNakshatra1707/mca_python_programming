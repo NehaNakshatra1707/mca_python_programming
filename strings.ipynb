{
 "cells": [
  {
   "cell_type": "code",
   "execution_count": null,
   "id": "d86b5e2a",
   "metadata": {},
   "outputs": [],
   "source": [
    "#strings: to store any kind of textual information. there is no other type to store text.\n",
    "#string creation:\n",
    "a='apple'\n",
    "b=\"banana\"\n",
    "c='''this is\n",
    "     chocolate\n",
    "     cake'''"
   ]
  },
  {
   "cell_type": "code",
   "execution_count": null,
   "id": "c89450e2",
   "metadata": {},
   "outputs": [],
   "source": [
    "#typecasting:\n",
    "x=str(10)\n",
    "y=str([\"apple\",\"banana\"])\n",
    "print(x,type(x))\n",
    "print(y,type(y))"
   ]
  },
  {
   "cell_type": "code",
   "execution_count": null,
   "id": "313c8e60",
   "metadata": {},
   "outputs": [],
   "source": [
    "#slicing and indexing\n",
    "print(a[0])\n",
    "a[0]='c' -   #strings are immutable"
   ]
  },
  {
   "cell_type": "code",
   "execution_count": null,
   "id": "52a26a59",
   "metadata": {},
   "outputs": [],
   "source": [
    "x=\"disappointed\"\n",
    "y=x[5:10]\n",
    "print(f\"the {y} is,i am not {x}\")"
   ]
  },
  {
   "cell_type": "code",
   "execution_count": null,
   "id": "b58dc59a",
   "metadata": {},
   "outputs": [],
   "source": [
    "poem='''twinkle twinkle little star\n",
    "how i wonder what you are\n",
    "up above the world so high\n",
    "like a diamond in the sky'''\n",
    "print(poem)"
   ]
  },
  {
   "cell_type": "code",
   "execution_count": null,
   "id": "e38f63e3",
   "metadata": {},
   "outputs": [],
   "source": [
    "x=poem[:28]\n",
    "print(x)"
   ]
  },
  {
   "cell_type": "code",
   "execution_count": null,
   "id": "7fe8777a",
   "metadata": {},
   "outputs": [],
   "source": [
    "x=poem[28:53]\n",
    "print(x)"
   ]
  },
  {
   "cell_type": "code",
   "execution_count": null,
   "id": "fcbdeb83",
   "metadata": {},
   "outputs": [
    {
     "name": "stdout",
     "output_type": "stream",
     "text": [
      "maintain silence in library\n",
      "MAINTAIN SILENCE IN LIBRARY\n"
     ]
    }
   ],
   "source": [
    "#string functions:\n",
    "#upper\n",
    "s=\"maintain silence in library\"     \n",
    "supper=s.upper()\n",
    "print(s)\n",
    "print(supper)"
   ]
  },
  {
   "cell_type": "code",
   "execution_count": 3,
   "id": "33c62965",
   "metadata": {},
   "outputs": [
    {
     "name": "stdout",
     "output_type": "stream",
     "text": [
      "MAINTAIN SILENCE IN LIBRARY\n",
      "maintain silence in library\n"
     ]
    }
   ],
   "source": [
    "#lower\n",
    "s=\"MAINTAIN SILENCE IN LIBRARY\"\n",
    "slower=s.lower()\n",
    "print(s)\n",
    "print(slower)\n"
   ]
  },
  {
   "cell_type": "code",
   "execution_count": 5,
   "id": "16a4ef19",
   "metadata": {},
   "outputs": [
    {
     "name": "stdout",
     "output_type": "stream",
     "text": [
      "maintain silence in library\n",
      "Maintain silence in library\n"
     ]
    }
   ],
   "source": [
    "#capitalize\n",
    "s=\"maintain silence in library\"\n",
    "scap=s.capitalize()\n",
    "print(s)\n",
    "print(scap)"
   ]
  },
  {
   "cell_type": "code",
   "execution_count": 6,
   "id": "3d4c67a5",
   "metadata": {},
   "outputs": [
    {
     "name": "stdout",
     "output_type": "stream",
     "text": [
      "maintain silence in library\n",
      "Maintain Silence In Library\n"
     ]
    }
   ],
   "source": [
    "#title\n",
    "s=\"maintain silence in library\"\n",
    "stitle=s.title()\n",
    "print(s)\n",
    "print(stitle)"
   ]
  },
  {
   "cell_type": "code",
   "execution_count": 8,
   "id": "f82d3a80",
   "metadata": {},
   "outputs": [
    {
     "name": "stdout",
     "output_type": "stream",
     "text": [
      "MAINTAIN SILENCE IN LIBRARY\n",
      "maintain silence in library\n"
     ]
    }
   ],
   "source": [
    "#swapcase\n",
    "s=\"MAINTAIN SILENCE IN LIBRARY\"\n",
    "sswap=s.swapcase()\n",
    "print(s)\n",
    "print(sswap)"
   ]
  },
  {
   "cell_type": "code",
   "execution_count": 10,
   "id": "7ce5282e",
   "metadata": {},
   "outputs": [
    {
     "name": "stdout",
     "output_type": "stream",
     "text": [
      "MAINTAIN SILENCE IN LIBRARY\n",
      "maintain silence in library\n"
     ]
    }
   ],
   "source": [
    "#casefold\n",
    "s=\"MAINTAIN SILENCE IN LIBRARY\"\n",
    "scase=s.casefold()\n",
    "print(s)\n",
    "print(scase)"
   ]
  },
  {
   "cell_type": "code",
   "execution_count": 11,
   "id": "bf13da28",
   "metadata": {},
   "outputs": [
    {
     "name": "stdout",
     "output_type": "stream",
     "text": [
      "5\n"
     ]
    }
   ],
   "source": [
    "a=\"seven\"\n",
    "size=len(a)\n",
    "print(size)"
   ]
  },
  {
   "cell_type": "code",
   "execution_count": null,
   "id": "6c0d182a",
   "metadata": {},
   "outputs": [
    {
     "name": "stdout",
     "output_type": "stream",
     "text": [
      "seven\n",
      "seven     \n",
      "seven-----\n"
     ]
    }
   ],
   "source": [
    "a=\"seven\"\n",
    "a1=a.ljust(10)      #ljust-move the text to left\n",
    "print(a)\n",
    "print(a1)\n",
    "a2=a.ljust(10,'-')#area,fillchar\n",
    "print(a2)"
   ]
  },
  {
   "cell_type": "code",
   "execution_count": 17,
   "id": "8d3bf517",
   "metadata": {},
   "outputs": [
    {
     "name": "stdout",
     "output_type": "stream",
     "text": [
      "               seven\n",
      "111111111111111seven\n",
      "    seven    \n",
      "****seven****\n"
     ]
    }
   ],
   "source": [
    "a3=a.rjust(20)\n",
    "a4=a.rjust(20,\"1\")\n",
    "a5=a.center(13)\n",
    "a6=a.center(13,'*')\n",
    "print(a3,a4,a5,a6,sep='\\n')"
   ]
  },
  {
   "cell_type": "code",
   "execution_count": 19,
   "id": "eb85e12e",
   "metadata": {},
   "outputs": [
    {
     "name": "stdout",
     "output_type": "stream",
     "text": [
      "True\n",
      "True\n",
      "True\n",
      "False\n",
      "False\n"
     ]
    }
   ],
   "source": [
    "#validation\n",
    "x=input()\n",
    "print(x.isalpha())\n",
    "print(x.isalnum())\n",
    "print(x.isalnum())\n",
    "print(x.isdigit())\n",
    "print(x.isspace())"
   ]
  },
  {
   "cell_type": "code",
   "execution_count": 22,
   "id": "399c3add",
   "metadata": {},
   "outputs": [
    {
     "name": "stdout",
     "output_type": "stream",
     "text": [
      "apple\n",
      "True\n",
      "False\n",
      "False\n"
     ]
    }
   ],
   "source": [
    "#startswith-check the starting value of a string&return true if it matches search item\n",
    "a=input()\n",
    "a1=a.startswith(\"a\")   #a-search string\n",
    "a2=a.startswith(\"hello\")\n",
    "a3=a.startswith(\"b\")\n",
    "print(a,a1,a2,a3,sep='\\n')"
   ]
  },
  {
   "cell_type": "code",
   "execution_count": null,
   "id": "d314027c",
   "metadata": {},
   "outputs": [],
   "source": [
    "#dictionary:\n",
    "#two ways to store data in python\n",
    "#1.list-> indexed based\n",
    "#3.dictionary->key value pair"
   ]
  },
  {
   "cell_type": "code",
   "execution_count": 2,
   "id": "dba91c64",
   "metadata": {},
   "outputs": [],
   "source": [
    "data=[\n",
    "\"neha\",\n",
    "\"polunehanakshatrareddy@gmail.com\",\n",
    "\"tirupati\",\n",
    "\"lucknow\",\n",
    "\"true\"\n",
    "\"false\",\n",
    "\"yes\",\n",
    "\"no\"\n",
    "]"
   ]
  },
  {
   "cell_type": "code",
   "execution_count": 4,
   "id": "680a189a",
   "metadata": {},
   "outputs": [
    {
     "name": "stdout",
     "output_type": "stream",
     "text": [
      "{}\n",
      "<class 'dict'>\n",
      "<class 'dict'>\n",
      "<class 'type'>\n"
     ]
    }
   ],
   "source": [
    "#creating a dictionary\n",
    "d={}\n",
    "print(d)\n",
    "print(type(d))\n",
    "\n",
    "d2=dict     #empty dict\n",
    "print(d2)\n",
    "print(type(d2))\n"
   ]
  },
  {
   "cell_type": "code",
   "execution_count": 5,
   "id": "c5f941ba",
   "metadata": {},
   "outputs": [
    {
     "name": "stdout",
     "output_type": "stream",
     "text": [
      "{'color': 'orange', 'shape': 'circle', 'size': '2 meter', 'material': 'plastic'}\n"
     ]
    }
   ],
   "source": [
    "d3={\n",
    "    'color':'orange',\n",
    "    'shape':'circle',\n",
    "    'size':'2 meter',\n",
    "    'material':'plastic'\n",
    "}\n",
    "print(d3)"
   ]
  },
  {
   "cell_type": "code",
   "execution_count": null,
   "id": "90ec6f6b",
   "metadata": {},
   "outputs": [
    {
     "name": "stdout",
     "output_type": "stream",
     "text": [
      "{'fact1': 'all keys in a dictionary should be unique', 'fact2': 'keys are immutable so only strings and tuples are allowed as keys', 'fact3': 'value of a key can be of any type->str,number,list,dict'}\n"
     ]
    }
   ],
   "source": [
    "info={\n",
    "    'fact1':'all keys in a dictionary should be unique',a\n",
    "    'fact2':'keys are immutable so only strings and tuples are allowed as keys',\n",
    "    'fact3':'value of a key can be of any type->str,number,list,dict'\n",
    "}\n",
    "print(info)"
   ]
  },
  {
   "cell_type": "code",
   "execution_count": 8,
   "id": "22e8ef39",
   "metadata": {},
   "outputs": [
    {
     "name": "stdout",
     "output_type": "stream",
     "text": [
      "{'name': 'mobile', 'price': '79999', 'features': {'camera': '48MP', 'os': 18, 'ram': '8 gb'}, 'brand': 'apple', 'model': 'iphone 18', 'popular': True, 'value for money': False, 'colors': ['orange', 'blue', 'black', 'white']}\n"
     ]
    }
   ],
   "source": [
    "product={\n",
    "    'name':'mobile',\n",
    "    'price':'79999',\n",
    "    'features':{'camera':'48MP','os':18,'ram':'8 gb'},\n",
    "    'brand':'apple',\n",
    "    'model':'iphone 18',\n",
    "    'popular':True,\n",
    "    'value for money':False,\n",
    "    'colors':['orange','blue','black','white']\n",
    "}\n",
    "print(product)"
   ]
  },
  {
   "cell_type": "code",
   "execution_count": 9,
   "id": "7305a33e",
   "metadata": {},
   "outputs": [
    {
     "data": {
      "text/plain": [
       "dict_items([('name', 'mobile'), ('price', '79999'), ('features', {'camera': '48MP', 'os': 18, 'ram': '8 gb'}), ('brand', 'apple'), ('model', 'iphone 18'), ('popular', True), ('value for money', False), ('colors', ['orange', 'blue', 'black', 'white'])])"
      ]
     },
     "execution_count": 9,
     "metadata": {},
     "output_type": "execute_result"
    }
   ],
   "source": [
    "product.items()"
   ]
  },
  {
   "cell_type": "code",
   "execution_count": 10,
   "id": "d9d312f2",
   "metadata": {},
   "outputs": [
    {
     "name": "stdout",
     "output_type": "stream",
     "text": [
      "iphone 18\n",
      "{'camera': '48MP', 'os': 18, 'ram': '8 gb'}\n",
      "79999\n",
      "apple\n",
      "None\n"
     ]
    }
   ],
   "source": [
    "print(product.get('model'))\n",
    "print(product.get('features'))\n",
    "print(product.get('price'))\n",
    "print(product.get('brand'))\n",
    "print(product.get('value'))"
   ]
  },
  {
   "cell_type": "code",
   "execution_count": 11,
   "id": "f32cd52f",
   "metadata": {},
   "outputs": [
    {
     "name": "stdout",
     "output_type": "stream",
     "text": [
      "{'name': 'william shakespeare'}\n",
      "{'name': 'william shakespeare', 'books': ['julias ceaser', 'merchant of venice']}\n",
      "{'name': 'william shakespeare', 'books': ['julias ceaser', 'merchant of venice'], 'born': 'april 1564', 'died': 'april 1616', 'overview': 'A english playwright,poet and actor,\\n\"regarded as greatest write in english.'}\n"
     ]
    }
   ],
   "source": [
    "d['name']=\"william shakespeare\"\n",
    "print(d)\n",
    "d['books']=['julias ceaser','merchant of venice']\n",
    "print(d)\n",
    "d['born']=\"april 1564\"\n",
    "d['died']=\"april 1616\"\n",
    "d['overview']='''A english playwright,poet and actor,\n",
    "\"regarded as greatest write in english.'''\n",
    "print(d)"
   ]
  },
  {
   "cell_type": "code",
   "execution_count": 14,
   "id": "c9998cd4",
   "metadata": {},
   "outputs": [
    {
     "name": "stdout",
     "output_type": "stream",
     "text": [
      "contact book\n",
      "search contact\n",
      "contact found\n",
      "emergency 108\n",
      "search contact\n",
      "contact found\n",
      "emergency 108\n",
      "bye\n"
     ]
    }
   ],
   "source": [
    "contacts={\n",
    "    'emergency':108\n",
    "}\n",
    "print(\"contact book\")\n",
    "while True:\n",
    "    print(\"search contact\")\n",
    "    name=input(\"name👉🏻\")\n",
    "    if name in contacts:\n",
    "        print(\"contact found\")\n",
    "        print(name,contacts.get(name))\n",
    "    else:\n",
    "        print(\"contact not found\")\n",
    "        ch=input(\"do you want to add it? y/n:\")\n",
    "        if ch=='y':\n",
    "            num=input(\"enter{name}'s number\")\n",
    "            contacts[name]==num\n",
    "            print(\"success!contact saved\")\n",
    "        else:\n",
    "            print(\"okay\")\n",
    "    quit=input(\"do you want to continue? y/n\")\n",
    "    if quit!='y' or quit!='y':\n",
    "        print(\"bye\")\n",
    "        break"
   ]
  },
  {
   "cell_type": "code",
   "execution_count": 3,
   "id": "2a9b2084",
   "metadata": {},
   "outputs": [
    {
     "name": "stdout",
     "output_type": "stream",
     "text": [
      "once upon a time twice upon a time\n",
      "onci upon a timi\n"
     ]
    }
   ],
   "source": [
    "#utility method\n",
    "#replace\n",
    "s=\"once upon a time\"\n",
    "s2=s.replace(\"once\",\"twice\")  #substring,replacement\n",
    "print(s,s2)\n",
    "s3=s.replace(\"e\",\"i\")\n",
    "print(s3)"
   ]
  },
  {
   "cell_type": "code",
   "execution_count": 4,
   "id": "3837bcec",
   "metadata": {},
   "outputs": [
    {
     "name": "stdout",
     "output_type": "stream",
     "text": [
      "py#t#h#o#n\n",
      "python\n"
     ]
    }
   ],
   "source": [
    "#replace for removing content\n",
    "data=\"py#t#h#o#n\"\n",
    "cleaned_data=data.replace(\"#\",'')\n",
    "print(data,cleaned_data,sep=\"\\n\")"
   ]
  },
  {
   "cell_type": "code",
   "execution_count": null,
   "id": "1cc0a319",
   "metadata": {},
   "outputs": [
    {
     "name": "stdout",
     "output_type": "stream",
     "text": [
      "7\n",
      "-1\n",
      "-1\n",
      "2\n",
      "3\n",
      "13\n"
     ]
    }
   ],
   "source": [
    "#find/index\n",
    "m=\"alpine mountain range\"\n",
    "print(m.find(\"mountain\"))      # output--above 0->value found, -1->valur not found\n",
    "print(m.find(\"lion\"))      \n",
    "print(m.find(\"lion\")) \n",
    "print(m.find(\"pine\"))\n",
    "print(m.find(\"i\"))\n",
    "print(m.find(\"i\",4))          #4->start index\n",
    "\n"
   ]
  },
  {
   "cell_type": "code",
   "execution_count": null,
   "id": "bf179c6b",
   "metadata": {},
   "outputs": [
    {
     "name": "stdout",
     "output_type": "stream",
     "text": [
      "life before death,\n",
      " courage before despair,\n",
      " journey before destination\n",
      "['life', 'before', 'death,', 'courage', 'before', 'despair,', 'journey', 'before', 'destination']\n",
      "['life before death', '\\n courage before despair', '\\n journey before destination']\n"
     ]
    }
   ],
   "source": [
    "#split and join\n",
    "quote='''life before death,\n",
    " courage before despair,\n",
    " journey before destination'''\n",
    "words=quote.split()         #str(quote)->list\n",
    "print(quote)\n",
    "print(words)\n",
    "sentences=quote.split(',')    #delimeter\n",
    "print(sentences)\n"
   ]
  },
  {
   "cell_type": "code",
   "execution_count": 19,
   "id": "53dac4e8",
   "metadata": {},
   "outputs": [
    {
     "name": "stdout",
     "output_type": "stream",
     "text": [
      "['mbu', 'sree sainath nagar', 'tirupati', 'AP', '517501']\n",
      "mbu,sree sainath nagar,tirupati,AP,517501\n",
      "mbu-sree sainath nagar-tirupati-AP-517501\n",
      "mbu\n",
      "sree sainath nagar\n",
      "tirupati\n",
      "AP\n",
      "517501\n",
      "mbuwhatsree sainath nagarwhattirupatiwhatAPwhat517501\n"
     ]
    }
   ],
   "source": [
    "#join\n",
    "addr=['mbu','sree sainath nagar','tirupati','AP','517501']\n",
    "addr_str=\",\".join(addr)\n",
    "print(addr,addr_str,sep='\\n')\n",
    "addr2=\"-\".join(addr)\n",
    "addr3=\"\\n\".join(addr)\n",
    "addr4=\"what\".join(addr)\n",
    "print(addr2)\n",
    "print(addr3)\n",
    "print(addr4)"
   ]
  },
  {
   "cell_type": "code",
   "execution_count": null,
   "id": "72ca3770",
   "metadata": {},
   "outputs": [],
   "source": []
  },
  {
   "cell_type": "code",
   "execution_count": null,
   "id": "20713472",
   "metadata": {},
   "outputs": [],
   "source": []
  }
 ],
 "metadata": {
  "kernelspec": {
   "display_name": "Python 3",
   "language": "python",
   "name": "python3"
  },
  "language_info": {
   "codemirror_mode": {
    "name": "ipython",
    "version": 3
   },
   "file_extension": ".py",
   "mimetype": "text/x-python",
   "name": "python",
   "nbconvert_exporter": "python",
   "pygments_lexer": "ipython3",
   "version": "3.13.6"
  }
 },
 "nbformat": 4,
 "nbformat_minor": 5
}
