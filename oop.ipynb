{
 "cells": [
  {
   "cell_type": "markdown",
   "id": "c1f2f767",
   "metadata": {},
   "source": [
    "### CLASS:"
   ]
  },
  {
   "cell_type": "code",
   "execution_count": null,
   "id": "a19c1ca5",
   "metadata": {},
   "outputs": [],
   "source": [
    "class Bottle:            #first letter must be capital\n",
    "    color=\" \"\n",
    "    height=\" \"\n",
    "    size=\" \"\n",
    "    shape=\" \"\n",
    "    cap=\" \"\n",
    "    material=\" \"\n",
    "    qualities=\" \"\n",
    "    volume=\" \"\n",
    "    price=0\n",
    "    brand=\" \""
   ]
  },
  {
   "cell_type": "code",
   "execution_count": null,
   "id": "caa2ddc4",
   "metadata": {},
   "outputs": [
    {
     "name": "stdout",
     "output_type": "stream",
     "text": [
      "<class '__main__.Polygon'>\n",
      "<__main__.Polygon object at 0x00000180A59A17F0>\n",
      "0\n",
      "3\n"
     ]
    }
   ],
   "source": [
    "class Polygon:\n",
    "    side=0                #attribute,class variable,field,property\n",
    "triangle=Polygon()    #object/instance creation     ,triangle-varible/object,polygon-class/constructor\n",
    "triangle.side=3       #attribute \"setting\"   \n",
    "print(Polygon)\n",
    "print(triangle)\n",
    "print(Polygon.side)             #\"getting\"\n",
    "print(triangle.side)\n",
    "\n",
    "\n"
   ]
  },
  {
   "cell_type": "code",
   "execution_count": null,
   "id": "81a7389c",
   "metadata": {},
   "outputs": [],
   "source": []
  }
 ],
 "metadata": {
  "kernelspec": {
   "display_name": "Python 3",
   "language": "python",
   "name": "python3"
  },
  "language_info": {
   "codemirror_mode": {
    "name": "ipython",
    "version": 3
   },
   "file_extension": ".py",
   "mimetype": "text/x-python",
   "name": "python",
   "nbconvert_exporter": "python",
   "pygments_lexer": "ipython3",
   "version": "3.13.6"
  }
 },
 "nbformat": 4,
 "nbformat_minor": 5
}
