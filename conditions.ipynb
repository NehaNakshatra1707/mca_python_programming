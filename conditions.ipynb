{
 "cells": [
  {
   "cell_type": "code",
   "execution_count": 1,
   "id": "6d47f92a",
   "metadata": {},
   "outputs": [
    {
     "name": "stdout",
     "output_type": "stream",
     "text": [
      "value=>100\n"
     ]
    }
   ],
   "source": [
    "#cond(itions:\n",
    "data= int(input(\"enter data value\"))\n",
    "print(f\"value=>{data}\")"
   ]
  },
  {
   "cell_type": "code",
   "execution_count": 5,
   "id": "53a9c698",
   "metadata": {},
   "outputs": [
    {
     "name": "stdout",
     "output_type": "stream",
     "text": [
      "you see a apple seller\n"
     ]
    }
   ],
   "source": [
    "print(\"you see a apple seller\")\n",
    "q=input(\"do you like the apple?\")\n",
    "if q==\"yes\" :\n",
    "    print(\"you purchase 2kg of apples\")\n",
    "if q==\"no\" :\n",
    "    print(\"you dont purchase apples\")"
   ]
  },
  {
   "cell_type": "code",
   "execution_count": 1,
   "id": "975ad579",
   "metadata": {},
   "outputs": [
    {
     "ename": "NameError",
     "evalue": "name 'da' is not defined",
     "output_type": "error",
     "traceback": [
      "\u001b[31m---------------------------------------------------------------------------\u001b[39m",
      "\u001b[31mNameError\u001b[39m                                 Traceback (most recent call last)",
      "\u001b[36mCell\u001b[39m\u001b[36m \u001b[39m\u001b[32mIn[1]\u001b[39m\u001b[32m, line 4\u001b[39m\n\u001b[32m      2\u001b[39m \u001b[38;5;28;01mif\u001b[39;00m salary > \u001b[32m50000\u001b[39m:\n\u001b[32m      3\u001b[39m     da=\u001b[32m.15\u001b[39m            \n\u001b[32m----> \u001b[39m\u001b[32m4\u001b[39m total=salary + salary * \u001b[43mda\u001b[49m\n\u001b[32m      5\u001b[39m \u001b[38;5;28mprint\u001b[39m(\u001b[33mf\u001b[39m\u001b[33m\"\u001b[39m\u001b[33mtotal salary is\u001b[39m\u001b[38;5;132;01m{\u001b[39;00mtotal\u001b[38;5;132;01m}\u001b[39;00m\u001b[33m\"\u001b[39m)\n",
      "\u001b[31mNameError\u001b[39m: name 'da' is not defined"
     ]
    }
   ],
   "source": [
    "salary=42000\n",
    "if salary > 50000:\n",
    "    da=.15            \n",
    "total=salary + salary * da\n",
    "print(f\"total salary is{total}\")"
   ]
  },
  {
   "cell_type": "code",
   "execution_count": 9,
   "id": "0c2d029d",
   "metadata": {},
   "outputs": [],
   "source": [
    "del da"
   ]
  },
  {
   "cell_type": "code",
   "execution_count": 3,
   "id": "9b9a8667",
   "metadata": {},
   "outputs": [
    {
     "name": "stdout",
     "output_type": "stream",
     "text": [
      "total salary is 42000\n"
     ]
    }
   ],
   "source": [
    "#solution 1- create the da variable before condition\n",
    "salary=42000\n",
    "da=0\n",
    "if salary > 50000:\n",
    "    da=.15            \n",
    "total=salary + salary * da\n",
    "print(f\"total salary is {total}\")\n"
   ]
  },
  {
   "cell_type": "code",
   "execution_count": 8,
   "id": "3c15bdad",
   "metadata": {},
   "outputs": [
    {
     "name": "stdout",
     "output_type": "stream",
     "text": [
      "total salary is 42000\n"
     ]
    }
   ],
   "source": [
    "#solution 2- use if else\n",
    "salary=42000\n",
    "da=0\n",
    "if salary > 50000:\n",
    "    da=.15            \n",
    "    total=salary + salary * da\n",
    "else:\n",
    "    total=salary\n",
    "print(f\"total salary is {total}\")\n",
    "\n"
   ]
  },
  {
   "cell_type": "code",
   "execution_count": null,
   "id": "9cdfd343",
   "metadata": {},
   "outputs": [
    {
     "name": "stdout",
     "output_type": "stream",
     "text": [
      "total salary is 42000\n"
     ]
    }
   ],
   "source": [
    "#solution 3- use if else with their own print\n",
    "salary=42000\n",
    "if salary > 50000:\n",
    "    da=.15            \n",
    "    total=salary + salary * da\n",
    "    print(f\"total salary is {total}\")\n",
    "else:\n",
    "    total=salary\n",
    "    print(f\"total salary is {total}\")\n",
    "\n"
   ]
  },
  {
   "cell_type": "code",
   "execution_count": 13,
   "id": "3f51bf62",
   "metadata": {},
   "outputs": [
    {
     "name": "stdout",
     "output_type": "stream",
     "text": [
      "100\n"
     ]
    }
   ],
   "source": [
    "x=int(input(\"enter the x value:\"))\n",
    "y=int(input(\"enter the y value:\"))\n",
    "if x>y:\n",
    "    a=x-y\n",
    "else:\n",
    "    a=y-x\n",
    "print(a)"
   ]
  },
  {
   "cell_type": "markdown",
   "id": "e4e461e7",
   "metadata": {},
   "source": []
  },
  {
   "cell_type": "code",
   "execution_count": null,
   "id": "bde920fd",
   "metadata": {},
   "outputs": [],
   "source": []
  }
 ],
 "metadata": {
  "kernelspec": {
   "display_name": "Python 3",
   "language": "python",
   "name": "python3"
  },
  "language_info": {
   "codemirror_mode": {
    "name": "ipython",
    "version": 3
   },
   "file_extension": ".py",
   "mimetype": "text/x-python",
   "name": "python",
   "nbconvert_exporter": "python",
   "pygments_lexer": "ipython3",
   "version": "3.13.6"
  }
 },
 "nbformat": 4,
 "nbformat_minor": 5
}
