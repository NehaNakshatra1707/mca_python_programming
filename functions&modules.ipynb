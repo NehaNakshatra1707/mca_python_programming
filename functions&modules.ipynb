{
 "cells": [
  {
   "cell_type": "code",
   "execution_count": 1,
   "id": "a1597b5c",
   "metadata": {},
   "outputs": [
    {
     "name": "stdout",
     "output_type": "stream",
     "text": [
      "even\n"
     ]
    }
   ],
   "source": [
    "n=input(\"enter value\")\n",
    "if int(n)%2==0:\n",
    "    print(\"even\")\n",
    "else:\n",
    "    print(\"odd\")"
   ]
  },
  {
   "cell_type": "markdown",
   "id": "17b38bd5",
   "metadata": {},
   "source": [
    "modularity- dividing one big thing into small segments or parts that make things easier to handle.\n",
    "Function: group of code/set of lines-\n",
    "(i)user defined- based on funtion i/o, 4 types of funtions\n",
    "(a)closed function\n",
    "(b)parameterized function\n",
    "(c)funtion returning Value\n",
    "(d)parameterized+value returning funtion\n",
    "(ii)pre defined->print(),input(),str(),len()\n",
    "->parameter types for funtion:\n",
    "1.required parameter\n",
    "2.default parameter\n",
    "3.variable arguments\n",
    "->speacialized funtions:\n",
    "1.anonymous funtions(lambda expression)\n",
    "2.generator function\n",
    "->module: a file that contain functions\n"
   ]
  },
  {
   "cell_type": "code",
   "execution_count": null,
   "id": "e15616de",
   "metadata": {},
   "outputs": [],
   "source": []
  }
 ],
 "metadata": {
  "kernelspec": {
   "display_name": "Python 3",
   "language": "python",
   "name": "python3"
  },
  "language_info": {
   "codemirror_mode": {
    "name": "ipython",
    "version": 3
   },
   "file_extension": ".py",
   "mimetype": "text/x-python",
   "name": "python",
   "nbconvert_exporter": "python",
   "pygments_lexer": "ipython3",
   "version": "3.13.6"
  }
 },
 "nbformat": 4,
 "nbformat_minor": 5
}
