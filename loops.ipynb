{
 "cells": [
  {
   "cell_type": "code",
   "execution_count": 7,
   "id": "6cef1f6b",
   "metadata": {},
   "outputs": [
    {
     "name": "stdout",
     "output_type": "stream",
     "text": [
      "25\n",
      "25\n",
      "25\n",
      "25\n",
      "25\n"
     ]
    }
   ],
   "source": [
    "for _ in range(5):\n",
    "    print(\"25\")"
   ]
  },
  {
   "cell_type": "code",
   "execution_count": 6,
   "id": "181ef94a",
   "metadata": {},
   "outputs": [
    {
     "name": "stdout",
     "output_type": "stream",
     "text": [
      "this is a statement\n",
      "this is a statement\n",
      "this is a statement\n",
      "this is a statement\n",
      "this is a statement\n"
     ]
    }
   ],
   "source": [
    "for _ in range(5):\n",
    "    print(\"this is a statement\")"
   ]
  },
  {
   "cell_type": "code",
   "execution_count": 8,
   "id": "a5533e1a",
   "metadata": {},
   "outputs": [
    {
     "name": "stdout",
     "output_type": "stream",
     "text": [
      "0\n",
      "1\n",
      "2\n",
      "3\n",
      "4\n",
      "5\n",
      "6\n",
      "7\n",
      "8\n",
      "9\n",
      "10\n",
      "11\n",
      "12\n",
      "13\n",
      "14\n"
     ]
    }
   ],
   "source": [
    "for i in range(15):\n",
    "    print(i)"
   ]
  },
  {
   "cell_type": "code",
   "execution_count": null,
   "id": "8783de8d",
   "metadata": {},
   "outputs": [
    {
     "name": "stdout",
     "output_type": "stream",
     "text": [
      "1\n",
      "2\n",
      "3\n",
      "4\n",
      "5\n",
      "6\n",
      "7\n",
      "8\n",
      "9\n",
      "10\n",
      "11\n",
      "12\n",
      "13\n",
      "14\n",
      "15\n"
     ]
    }
   ],
   "source": [
    "for x in range(1,16):      #start(1), stop(16)\n",
    "    print(x)"
   ]
  },
  {
   "cell_type": "code",
   "execution_count": 10,
   "id": "588669b1",
   "metadata": {},
   "outputs": [
    {
     "name": "stdout",
     "output_type": "stream",
     "text": [
      "5\n",
      "6\n",
      "7\n",
      "8\n",
      "9\n"
     ]
    }
   ],
   "source": [
    "a=5\n",
    "b=10\n",
    "for i in range(a,b):\n",
    "    print(i)"
   ]
  },
  {
   "cell_type": "code",
   "execution_count": 11,
   "id": "a975fe1f",
   "metadata": {},
   "outputs": [
    {
     "name": "stdout",
     "output_type": "stream",
     "text": [
      "10 20 10\n",
      "10 20 11\n",
      "10 20 12\n",
      "10 20 13\n",
      "10 20 14\n",
      "10 20 15\n",
      "10 20 16\n",
      "10 20 17\n",
      "10 20 18\n",
      "10 20 19\n"
     ]
    }
   ],
   "source": [
    "x=int(input(\"enter start\"))\n",
    "y=int(input(\"enter stop\"))\n",
    "for i in range(x,y):\n",
    "    print(x,y,i)"
   ]
  },
  {
   "cell_type": "code",
   "execution_count": 13,
   "id": "6dae2f70",
   "metadata": {},
   "outputs": [
    {
     "name": "stdout",
     "output_type": "stream",
     "text": [
      "12*1=12\n",
      "12*1=24\n",
      "12*1=36\n",
      "12*1=48\n",
      "12*1=60\n",
      "12*1=72\n",
      "12*1=84\n",
      "12*1=96\n",
      "12*1=108\n",
      "12*1=120\n"
     ]
    }
   ],
   "source": [
    "size=10\n",
    "for i in range(1,size+1):\n",
    "    print(f\"12*{1}={12*i}\")"
   ]
  },
  {
   "cell_type": "code",
   "execution_count": 8,
   "id": "7747e3fc",
   "metadata": {},
   "outputs": [
    {
     "name": "stdout",
     "output_type": "stream",
     "text": [
      "1\n",
      "3\n",
      "5\n",
      "7\n",
      "9\n"
     ]
    }
   ],
   "source": [
    "for i in range(1,10,2):\n",
    "    print(i)"
   ]
  },
  {
   "cell_type": "code",
   "execution_count": 9,
   "id": "7019c24c",
   "metadata": {},
   "outputs": [
    {
     "name": "stdout",
     "output_type": "stream",
     "text": [
      "1\n",
      "3\n",
      "5\n",
      "7\n",
      "9\n",
      "11\n",
      "13\n",
      "15\n",
      "17\n",
      "19\n"
     ]
    }
   ],
   "source": [
    "for i in range(1,20,2):\n",
    "    print(i)"
   ]
  },
  {
   "cell_type": "code",
   "execution_count": 10,
   "id": "75249a0c",
   "metadata": {},
   "outputs": [
    {
     "name": "stdout",
     "output_type": "stream",
     "text": [
      "1\n",
      "4\n",
      "7\n"
     ]
    }
   ],
   "source": [
    "for i in range(1,10,3):\n",
    "    print(i)"
   ]
  },
  {
   "cell_type": "code",
   "execution_count": 7,
   "id": "91c53d25",
   "metadata": {},
   "outputs": [
    {
     "name": "stdout",
     "output_type": "stream",
     "text": [
      "0\n",
      "5\n",
      "10\n"
     ]
    }
   ],
   "source": [
    "for i in range(0,15,5):\n",
    "    print(i)\n"
   ]
  },
  {
   "cell_type": "code",
   "execution_count": 11,
   "id": "091843c1",
   "metadata": {},
   "outputs": [
    {
     "name": "stdout",
     "output_type": "stream",
     "text": [
      "10\n",
      "8\n",
      "6\n",
      "4\n",
      "2\n"
     ]
    }
   ],
   "source": [
    "for i in range(10,0,-2):\n",
    "    print(i)"
   ]
  },
  {
   "cell_type": "code",
   "execution_count": 12,
   "id": "b2f4bf67",
   "metadata": {},
   "outputs": [
    {
     "name": "stdout",
     "output_type": "stream",
     "text": [
      "100\n",
      "102\n",
      "104\n",
      "106\n",
      "108\n",
      "110\n",
      "112\n",
      "114\n",
      "116\n",
      "118\n",
      "120\n",
      "122\n",
      "124\n",
      "126\n",
      "128\n",
      "130\n",
      "132\n",
      "134\n",
      "136\n",
      "138\n",
      "140\n",
      "142\n",
      "144\n",
      "146\n",
      "148\n",
      "150\n",
      "152\n",
      "154\n",
      "156\n",
      "158\n",
      "160\n",
      "162\n",
      "164\n",
      "166\n",
      "168\n",
      "170\n",
      "172\n",
      "174\n",
      "176\n",
      "178\n",
      "180\n",
      "182\n",
      "184\n",
      "186\n",
      "188\n",
      "190\n",
      "192\n",
      "194\n",
      "196\n",
      "198\n",
      "200\n"
     ]
    }
   ],
   "source": [
    "# to print all even numbers from 200-200\n",
    "for num in range(100,201,2):\n",
    "    print(num)"
   ]
  },
  {
   "cell_type": "code",
   "execution_count": null,
   "id": "a5d7441b",
   "metadata": {},
   "outputs": [
    {
     "name": "stdout",
     "output_type": "stream",
     "text": [
      "100,102,104,106,108,110,112,114,116,118,120,122,124,126,128,130,132,134,136,138,140,142,144,146,148,150,152,154,156,158,160,162,164,166,168,170,172,174,176,178,180,182,184,186,188,190,192,194,196,198,200,"
     ]
    }
   ],
   "source": [
    "# to print all even numbers from 200-200(horizantal answer)\n",
    "for num in range(100,201,2):\n",
    "    print(num,end=\",\")"
   ]
  },
  {
   "cell_type": "code",
   "execution_count": 14,
   "id": "3d97fbd0",
   "metadata": {},
   "outputs": [
    {
     "name": "stdout",
     "output_type": "stream",
     "text": [
      "['red', 'blue', 'green']\n"
     ]
    }
   ],
   "source": [
    "colors=[\"red\",\"blue\",\"green\"]\n",
    "print(colors)"
   ]
  },
  {
   "cell_type": "code",
   "execution_count": null,
   "id": "bfdff57c",
   "metadata": {},
   "outputs": [
    {
     "name": "stdout",
     "output_type": "stream",
     "text": [
      "red\n",
      "blue\n",
      "green\n"
     ]
    }
   ],
   "source": [
    "#formatted output\n",
    "for color in colors:\n",
    "    print(color)"
   ]
  },
  {
   "cell_type": "code",
   "execution_count": null,
   "id": "44673520",
   "metadata": {},
   "outputs": [
    {
     "name": "stdout",
     "output_type": "stream",
     "text": [
      "['spiderman', 'stranger things', 'ginny&gorgia', 'grays anatomy', 'harry potter', 'true beauty', 'F1', 'evil dead', 'conjuring', 'business proposal']\n"
     ]
    }
   ],
   "source": [
    "movies=[\"spiderman\",\"stranger things\",\"ginny&gorgia\",\"grays anatomy\",\"harry potter\",\"true beauty\",\"F1\",\"evil dead\",\"conjuring\",\"business proposal\"]\n",
    "print(movies)"
   ]
  },
  {
   "cell_type": "code",
   "execution_count": 18,
   "id": "219a2621",
   "metadata": {},
   "outputs": [
    {
     "name": "stdout",
     "output_type": "stream",
     "text": [
      "spiderman\n",
      "stranger things\n",
      "ginny&gorgia\n",
      "grays anatomy\n",
      "harry potter\n",
      "true beauty\n",
      "F1\n",
      "evil dead\n",
      "conjuring\n",
      "business proposal\n"
     ]
    }
   ],
   "source": [
    "for movie in movies:\n",
    "    print(movie)"
   ]
  },
  {
   "cell_type": "code",
   "execution_count": 21,
   "id": "6219a43f",
   "metadata": {},
   "outputs": [
    {
     "name": "stdout",
     "output_type": "stream",
     "text": [
      "1,3,5,7,9,11,13,15,17,19,21,23,25,27,29,31,33,35,37,39,41,43,45,47,49,51,53,55,57,59,61,63,65,67,69,71,73,75,77,79,81,83,85,87,89,91,93,95,97,99,"
     ]
    }
   ],
   "source": [
    "for num in range(1,100,2):\n",
    "    print(num,end=\",\")"
   ]
  },
  {
   "cell_type": "code",
   "execution_count": 2,
   "id": "4d45fae2",
   "metadata": {},
   "outputs": [
    {
     "name": "stdout",
     "output_type": "stream",
     "text": [
      "-10,-7,-4,-1,2,5,8,"
     ]
    }
   ],
   "source": [
    "for i in range(-10,10,3):\n",
    "    print(i,end=\",\")"
   ]
  },
  {
   "cell_type": "code",
   "execution_count": null,
   "id": "27d5f87a",
   "metadata": {},
   "outputs": [],
   "source": [
    "#loop with conditions:\n",
    "#syntax:\n",
    "for var in iterable:\n",
    "    if condition:\n",
    "        statement\n",
    "    else:\n",
    "        statement"
   ]
  },
  {
   "cell_type": "code",
   "execution_count": 3,
   "id": "c2ae860e",
   "metadata": {},
   "outputs": [
    {
     "name": "stdout",
     "output_type": "stream",
     "text": [
      "2\n",
      "4\n",
      "6\n",
      "8\n",
      "10\n"
     ]
    }
   ],
   "source": [
    "for i in range(1,11):\n",
    "    if i%2==0:\n",
    "        print(i)"
   ]
  },
  {
   "cell_type": "code",
   "execution_count": 8,
   "id": "5d8a2289",
   "metadata": {},
   "outputs": [
    {
     "name": "stdout",
     "output_type": "stream",
     "text": [
      "1\n",
      "3\n",
      "5\n",
      "7\n",
      "9\n"
     ]
    }
   ],
   "source": [
    "for i in range(1,11):\n",
    "    if i%2!=0:\n",
    "        print(i)"
   ]
  },
  {
   "cell_type": "code",
   "execution_count": 9,
   "id": "b19b7887",
   "metadata": {},
   "outputs": [
    {
     "name": "stdout",
     "output_type": "stream",
     "text": [
      "odd numbers\n",
      "odd numbers\n",
      "odd numbers\n",
      "odd numbers\n",
      "144\n",
      "odd numbers\n"
     ]
    }
   ],
   "source": [
    "nums=[1,5,11,3,12,15]\n",
    "for i in nums:\n",
    "    if i%2==0:\n",
    "        s=i**2\n",
    "        print(s)\n",
    "    else:\n",
    "        print(\"odd numbers\")"
   ]
  },
  {
   "cell_type": "code",
   "execution_count": 11,
   "id": "0299191c",
   "metadata": {},
   "outputs": [
    {
     "name": "stdout",
     "output_type": "stream",
     "text": [
      "1\n",
      "125\n",
      "1331\n",
      "27\n",
      "even numbers\n",
      "3375\n"
     ]
    }
   ],
   "source": [
    "nums=[1,5,11,3,12,15]\n",
    "for i in nums:\n",
    "    if i%2!=0:\n",
    "        s=i**3\n",
    "        print(s)\n",
    "    else:\n",
    "        print(\"even numbers\")"
   ]
  },
  {
   "cell_type": "code",
   "execution_count": 2,
   "id": "d05d00f5",
   "metadata": {},
   "outputs": [
    {
     "name": "stdout",
     "output_type": "stream",
     "text": [
      "the area for3 is 28.26\n",
      "the area for5 is 78.5\n",
      "the area for6 is 113.04\n",
      "the area for11 is 379.94\n",
      "the area for10 is 314.0\n"
     ]
    }
   ],
   "source": [
    "#calculate area of circles whose radius is given in list:\n",
    "radius=[3,5,6,11,10]\n",
    "for r in radius:\n",
    "    area=3.14*r**2\n",
    "    print(f\"the area for{r} is {area}\")\n",
    "\n"
   ]
  },
  {
   "cell_type": "code",
   "execution_count": 3,
   "id": "ea865a63",
   "metadata": {},
   "outputs": [
    {
     "name": "stdout",
     "output_type": "stream",
     "text": [
      "criminal case\n"
     ]
    }
   ],
   "source": [
    "video_games=[\"pubg\",\"freefire\",\"gta\",\"minecraft\",\"stumble guys\",\"gardenescapes\",\"temple run\",\"criminal case\",\"zombie run\",\"among us\"]\n",
    "for name in video_games:\n",
    "    if name.startswith(\"c\"):\n",
    "        print(name)"
   ]
  },
  {
   "cell_type": "code",
   "execution_count": 4,
   "id": "b87e8cee",
   "metadata": {},
   "outputs": [
    {
     "name": "stdout",
     "output_type": "stream",
     "text": [
      "book->the final empire\n",
      "book->the well of ascension\n",
      "book->the alloy of law\n",
      "book->hero of ages\n",
      "book->the way of kings\n"
     ]
    }
   ],
   "source": [
    "books=[\"the final empire\",\"warbreaker\",\"elantris\",\"the well of ascension\",\"the alloy of law\",\"hero of ages\",\"the way of kings\"]\n",
    "for book in books:\n",
    "    if \"the\" in book or \"of\" in book:\n",
    "        print(f\"book->{book}\")"
   ]
  },
  {
   "cell_type": "code",
   "execution_count": 9,
   "id": "d3de2db7",
   "metadata": {},
   "outputs": [
    {
     "name": "stdout",
     "output_type": "stream",
     "text": [
      "165\n"
     ]
    }
   ],
   "source": [
    "#Aggregation                 (before the loop separate var needs to be given for aggregate functions)\n",
    "total=0\n",
    "for num in range(10,21):\n",
    "    total=total+num\n",
    "print(total)\n",
    "\n"
   ]
  },
  {
   "cell_type": "code",
   "execution_count": 12,
   "id": "7a3fbc4b",
   "metadata": {},
   "outputs": [
    {
     "name": "stdout",
     "output_type": "stream",
     "text": [
      "6704425728000\n"
     ]
    }
   ],
   "source": [
    "total=1\n",
    "for num in range(10,21):\n",
    "    total=total*num\n",
    "print(total)"
   ]
  },
  {
   "cell_type": "code",
   "execution_count": 13,
   "id": "2cf2f142",
   "metadata": {},
   "outputs": [
    {
     "name": "stdout",
     "output_type": "stream",
     "text": [
      "53\n"
     ]
    }
   ],
   "source": [
    "nums=[5,11,2,53,10,33]\n",
    "m=0\n",
    "for num in nums:\n",
    "    if num>m:\n",
    "        m=num\n",
    "print(m)\n"
   ]
  },
  {
   "cell_type": "code",
   "execution_count": 17,
   "id": "068078d2",
   "metadata": {},
   "outputs": [
    {
     "name": "stdout",
     "output_type": "stream",
     "text": [
      "total count=8\n"
     ]
    }
   ],
   "source": [
    "nums=[25,26,27,28,29,30,31,32,33,34,35,36,37,38,39,40,41,42,43,44,45,46,47,48,49,50]\n",
    "count=0\n",
    "for num in nums:\n",
    "    if num%3==0:\n",
    "        count=count+1\n",
    "print(f\"total count={count}\")"
   ]
  },
  {
   "cell_type": "code",
   "execution_count": 18,
   "id": "eab90a1e",
   "metadata": {},
   "outputs": [
    {
     "name": "stdout",
     "output_type": "stream",
     "text": [
      "total count=13\n"
     ]
    }
   ],
   "source": [
    "nums=[25,26,27,28,29,30,31,32,33,34,35,36,37,38,39,40,41,42,43,44,45,46,47,48,49,50]\n",
    "count=0\n",
    "for num in nums:\n",
    "    if num%2==0:\n",
    "        count=count+1\n",
    "print(f\"total count={count}\")"
   ]
  },
  {
   "cell_type": "code",
   "execution_count": 1,
   "id": "e87f5df9",
   "metadata": {},
   "outputs": [
    {
     "name": "stdout",
     "output_type": "stream",
     "text": [
      "count 1\n"
     ]
    }
   ],
   "source": [
    "movies=[\"jab we met\",\"rockstar\",\"wake up sid\",\"udtha punjab\",\"yjhd\",\"highway\",\"darlings\",\"dil dhadakne do\",\"tamasha\",\"gully boys\",\"mili\",\"uri\",\"animal\",\"ok jaanu\",\"dhadak\"]\n",
    "movies_with_h=0\n",
    "for movie in movies:\n",
    "    if movie.startswith(\"H\") or movie.startswith(\"h\"):\n",
    "        movies_with_h += 1\n",
    "print(\"count\",movies_with_h)\n"
   ]
  },
  {
   "cell_type": "code",
   "execution_count": 3,
   "id": "78ff062b",
   "metadata": {},
   "outputs": [
    {
     "name": "stdout",
     "output_type": "stream",
     "text": [
      "count 1\n"
     ]
    }
   ],
   "source": [
    "#Method 2\n",
    "movies=[\"jab we met\",\"rockstar\",\"wake up sid\",\"udtha punjab\",\"yjhd\",\"highway\",\"darlings\",\"dil dhadakne do\",\"tamasha\",\"gully boys\",\"mili\",\"uri\",\"animal\",\"ok jaanu\",\"dhadak\"]\n",
    "movies_with_h=0\n",
    "for movie in movies:\n",
    "     if movie.startswith(\"H\") or movie.startswith(\"h\"):\n",
    "        movies_with_h= movies_with_h+1\n",
    "print(\"count\",movies_with_h)"
   ]
  },
  {
   "cell_type": "code",
   "execution_count": 4,
   "id": "04dc3c3d",
   "metadata": {},
   "outputs": [
    {
     "name": "stdout",
     "output_type": "stream",
     "text": [
      "3628800\n"
     ]
    }
   ],
   "source": [
    "#5 -> 5*4*3*2*1->120\n",
    "#factorial\n",
    "num=10\n",
    "fact=1\n",
    "for i in range(num,0,-1):\n",
    "    fact=fact*i\n",
    "print(fact)"
   ]
  },
  {
   "cell_type": "code",
   "execution_count": 5,
   "id": "d329d52b",
   "metadata": {},
   "outputs": [
    {
     "name": "stdout",
     "output_type": "stream",
     "text": [
      "10*1\n",
      "9*10\n",
      "8*90\n",
      "7*720\n",
      "6*5040\n",
      "5*30240\n",
      "4*151200\n",
      "3*604800\n",
      "2*1814400\n",
      "1*3628800\n",
      "3628800\n"
     ]
    }
   ],
   "source": [
    "num=10     #to see calculation\n",
    "fact=1\n",
    "for i in range(num,0,-1):\n",
    "    print(f'{i}*{fact}')\n",
    "    fact=fact*i\n",
    "print(fact)"
   ]
  },
  {
   "cell_type": "code",
   "execution_count": null,
   "id": "60b928e5",
   "metadata": {},
   "outputs": [
    {
     "name": "stdout",
     "output_type": "stream",
     "text": [
      "i=1,j=1\n",
      "i=1,j=2\n",
      "i=1,j=3\n",
      "i=1,j=4\n",
      "i=1,j=5\n",
      "i=2,j=1\n",
      "i=2,j=2\n",
      "i=2,j=3\n",
      "i=2,j=4\n",
      "i=2,j=5\n",
      "i=3,j=1\n",
      "i=3,j=2\n",
      "i=3,j=3\n",
      "i=3,j=4\n",
      "i=3,j=5\n",
      "i=4,j=1\n",
      "i=4,j=2\n",
      "i=4,j=3\n",
      "i=4,j=4\n",
      "i=4,j=5\n",
      "i=5,j=1\n",
      "i=5,j=2\n",
      "i=5,j=3\n",
      "i=5,j=4\n",
      "i=5,j=5\n",
      "i=6,j=1\n",
      "i=6,j=2\n",
      "i=6,j=3\n",
      "i=6,j=4\n",
      "i=6,j=5\n",
      "i=7,j=1\n",
      "i=7,j=2\n",
      "i=7,j=3\n",
      "i=7,j=4\n",
      "i=7,j=5\n",
      "i=8,j=1\n",
      "i=8,j=2\n",
      "i=8,j=3\n",
      "i=8,j=4\n",
      "i=8,j=5\n",
      "i=9,j=1\n",
      "i=9,j=2\n",
      "i=9,j=3\n",
      "i=9,j=4\n",
      "i=9,j=5\n",
      "i=10,j=1\n",
      "i=10,j=2\n",
      "i=10,j=3\n",
      "i=10,j=4\n",
      "i=10,j=5\n"
     ]
    }
   ],
   "source": [
    "\n",
    "# Nested loop\n",
    "#loops total 10*5 => 50 times\n",
    "for i in range(1,11):      #loops 10 times\n",
    "    for j in range(1,6):   #loops 5 times\n",
    "        print(f\"i={i},j={j}\")\n",
    "\n"
   ]
  },
  {
   "cell_type": "code",
   "execution_count": 12,
   "id": "73acdd41",
   "metadata": {},
   "outputs": [
    {
     "name": "stdout",
     "output_type": "stream",
     "text": [
      "11111\n",
      "22222\n",
      "33333\n",
      "44444\n",
      "55555\n"
     ]
    }
   ],
   "source": [
    "n=6\n",
    "for i in range(1,n):\n",
    "    for j in range(1,n):\n",
    "        print(i,end=\"\")\n",
    "    print()"
   ]
  },
  {
   "cell_type": "code",
   "execution_count": 13,
   "id": "f8dfd4a1",
   "metadata": {},
   "outputs": [
    {
     "name": "stdout",
     "output_type": "stream",
     "text": [
      "12345\n",
      "12345\n",
      "12345\n",
      "12345\n",
      "12345\n"
     ]
    }
   ],
   "source": [
    "n=6\n",
    "for i in range(1,n):\n",
    "    for j in range(1,n):\n",
    "        print(j,end=\"\")\n",
    "    print()"
   ]
  },
  {
   "cell_type": "code",
   "execution_count": null,
   "id": "c9a7c07a",
   "metadata": {},
   "outputs": [],
   "source": [
    "#jump statement\n",
    "#continue-to skip a step\n",
    "#break-to stop the loop\n",
    "#always used with a condition inside a loop"
   ]
  },
  {
   "cell_type": "code",
   "execution_count": 3,
   "id": "08f7df72",
   "metadata": {},
   "outputs": [
    {
     "name": "stdout",
     "output_type": "stream",
     "text": [
      "1 2 4 5 7 8 10 11 13 14 16 17 19 20 22 23 "
     ]
    }
   ],
   "source": [
    "#skip every value divisible by 3\n",
    "for i in range(1,25):\n",
    "    if i%3==0:\n",
    "        continue\n",
    "    print(i,end=\" \")"
   ]
  },
  {
   "cell_type": "code",
   "execution_count": 5,
   "id": "8010a86c",
   "metadata": {},
   "outputs": [
    {
     "name": "stdout",
     "output_type": "stream",
     "text": [
      "1 2 3 3 1 2 5 6 7 2 2 1 "
     ]
    }
   ],
   "source": [
    "data=[1,2,0,3,3,0,1,2,0,5,6,7,2,0,2,1]\n",
    "for i in data:\n",
    "    if i == 0:\n",
    "        continue\n",
    "    print(i,end=\" \")"
   ]
  },
  {
   "cell_type": "code",
   "execution_count": 6,
   "id": "3544dfcd",
   "metadata": {},
   "outputs": [
    {
     "name": "stdout",
     "output_type": "stream",
     "text": [
      "1 2 3 4 5 6 7 "
     ]
    }
   ],
   "source": [
    "for i in range(1,11):\n",
    "    if i==8:\n",
    "        break\n",
    "    print(i,end=\" \")"
   ]
  },
  {
   "cell_type": "code",
   "execution_count": 8,
   "id": "fca7fa60",
   "metadata": {},
   "outputs": [
    {
     "name": "stdout",
     "output_type": "stream",
     "text": [
      "enter o to stop the loop\n",
      "enter o to stop the loop\n",
      "total=78\n"
     ]
    }
   ],
   "source": [
    "#add all values entered by user till he types 0\n",
    "total=0\n",
    "for i in range(100):\n",
    "    print(\"enter o to stop the loop\")\n",
    "    value=int(input(\"enter a value\"))\n",
    "    if value==0:\n",
    "        break\n",
    "    total+=value\n",
    "print(f\"total={total}\")\n"
   ]
  },
  {
   "cell_type": "code",
   "execution_count": 1,
   "id": "c30c6b1b",
   "metadata": {},
   "outputs": [
    {
     "name": "stdout",
     "output_type": "stream",
     "text": [
      "2\n",
      "5\n",
      "8\n",
      "11\n",
      "15\n",
      "loop completed\n"
     ]
    }
   ],
   "source": [
    "#for else\n",
    "nums=[2,5,8,11,15]\n",
    "for n in nums:\n",
    "    print(n)\n",
    "print(\"loop completed\")"
   ]
  },
  {
   "cell_type": "code",
   "execution_count": 2,
   "id": "8c392904",
   "metadata": {},
   "outputs": [
    {
     "name": "stdout",
     "output_type": "stream",
     "text": [
      "2\n",
      "5\n",
      "8\n",
      "loop completed\n"
     ]
    }
   ],
   "source": [
    "nums=[2,5,8,11,18]\n",
    "for n in nums:\n",
    "    if n>10:\n",
    "        break\n",
    "    print(n)\n",
    "print(\"loop completed\")"
   ]
  },
  {
   "cell_type": "code",
   "execution_count": 5,
   "id": "79c66e78",
   "metadata": {},
   "outputs": [
    {
     "name": "stdout",
     "output_type": "stream",
     "text": [
      "loop broken\n"
     ]
    }
   ],
   "source": [
    "value=int(input(\"enter breakpoint\"))\n",
    "nums=[1,2,3,4,5,6,11,15,20,25]\n",
    "for n in nums:\n",
    "    if value>n:\n",
    "        print(\"loop broken\")\n",
    "        break\n",
    "else:\n",
    "    print(\"loop complted\")"
   ]
  },
  {
   "cell_type": "code",
   "execution_count": 13,
   "id": "49c05f16",
   "metadata": {},
   "outputs": [
    {
     "name": "stdout",
     "output_type": "stream",
     "text": [
      "5 is prime number\n"
     ]
    }
   ],
   "source": [
    "num=int(input(\"enter a number\"))\n",
    "for n in range(2,num):\n",
    "    if num%n==0:\n",
    "        print(f\"{num} not a prime number\")\n",
    "        break\n",
    "else:\n",
    "    print(f\"{num} is prime number\")"
   ]
  },
  {
   "cell_type": "code",
   "execution_count": 17,
   "id": "9d6c1efc",
   "metadata": {},
   "outputs": [
    {
     "name": "stdout",
     "output_type": "stream",
     "text": [
      "50 45 40 35 30 25 20 15 10 5 "
     ]
    }
   ],
   "source": [
    "#while loop\n",
    "x=50\n",
    "while x>0:\n",
    "    print(x,end=\" \")\n",
    "    x-=5"
   ]
  },
  {
   "cell_type": "code",
   "execution_count": null,
   "id": "032da510",
   "metadata": {},
   "outputs": [],
   "source": []
  }
 ],
 "metadata": {
  "kernelspec": {
   "display_name": "Python 3",
   "language": "python",
   "name": "python3"
  },
  "language_info": {
   "codemirror_mode": {
    "name": "ipython",
    "version": 3
   },
   "file_extension": ".py",
   "mimetype": "text/x-python",
   "name": "python",
   "nbconvert_exporter": "python",
   "pygments_lexer": "ipython3",
   "version": "3.13.6"
  }
 },
 "nbformat": 4,
 "nbformat_minor": 5
}
