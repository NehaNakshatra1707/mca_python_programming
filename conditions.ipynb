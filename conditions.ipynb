{
 "cells": [
  {
   "cell_type": "code",
   "execution_count": 1,
   "id": "6d47f92a",
   "metadata": {},
   "outputs": [
    {
     "name": "stdout",
     "output_type": "stream",
     "text": [
      "value=>100\n"
     ]
    }
   ],
   "source": [
    "#cond(itions:\n",
    "data= int(input(\"enter data value\"))\n",
    "print(f\"value=>{data}\")"
   ]
  },
  {
   "cell_type": "code",
   "execution_count": 5,
   "id": "53a9c698",
   "metadata": {},
   "outputs": [
    {
     "name": "stdout",
     "output_type": "stream",
     "text": [
      "you see a apple seller\n"
     ]
    }
   ],
   "source": [
    "print(\"you see a apple seller\")\n",
    "q=input(\"do you like the apple?\")\n",
    "if q==\"yes\" :\n",
    "    print(\"you purchase 2kg of apples\")\n",
    "if q==\"no\" :\n",
    "    print(\"you dont purchase apples\")"
   ]
  },
  {
   "cell_type": "code",
   "execution_count": 1,
   "id": "975ad579",
   "metadata": {},
   "outputs": [
    {
     "ename": "NameError",
     "evalue": "name 'da' is not defined",
     "output_type": "error",
     "traceback": [
      "\u001b[31m---------------------------------------------------------------------------\u001b[39m",
      "\u001b[31mNameError\u001b[39m                                 Traceback (most recent call last)",
      "\u001b[36mCell\u001b[39m\u001b[36m \u001b[39m\u001b[32mIn[1]\u001b[39m\u001b[32m, line 4\u001b[39m\n\u001b[32m      2\u001b[39m \u001b[38;5;28;01mif\u001b[39;00m salary > \u001b[32m50000\u001b[39m:\n\u001b[32m      3\u001b[39m     da=\u001b[32m.15\u001b[39m            \n\u001b[32m----> \u001b[39m\u001b[32m4\u001b[39m total=salary + salary * \u001b[43mda\u001b[49m\n\u001b[32m      5\u001b[39m \u001b[38;5;28mprint\u001b[39m(\u001b[33mf\u001b[39m\u001b[33m\"\u001b[39m\u001b[33mtotal salary is\u001b[39m\u001b[38;5;132;01m{\u001b[39;00mtotal\u001b[38;5;132;01m}\u001b[39;00m\u001b[33m\"\u001b[39m)\n",
      "\u001b[31mNameError\u001b[39m: name 'da' is not defined"
     ]
    }
   ],
   "source": [
    "salary=42000\n",
    "if salary > 50000:\n",
    "    da=.15            \n",
    "total=salary + salary * da\n",
    "print(f\"total salary is{total}\")"
   ]
  },
  {
   "cell_type": "code",
   "execution_count": 9,
   "id": "0c2d029d",
   "metadata": {},
   "outputs": [],
   "source": [
    "del da"
   ]
  },
  {
   "cell_type": "code",
   "execution_count": 3,
   "id": "9b9a8667",
   "metadata": {},
   "outputs": [
    {
     "name": "stdout",
     "output_type": "stream",
     "text": [
      "total salary is 42000\n"
     ]
    }
   ],
   "source": [
    "#solution 1- create the da variable before condition\n",
    "salary=42000\n",
    "da=0\n",
    "if salary > 50000:\n",
    "    da=.15            \n",
    "total=salary + salary * da\n",
    "print(f\"total salary is {total}\")\n"
   ]
  },
  {
   "cell_type": "code",
   "execution_count": 8,
   "id": "3c15bdad",
   "metadata": {},
   "outputs": [
    {
     "name": "stdout",
     "output_type": "stream",
     "text": [
      "total salary is 42000\n"
     ]
    }
   ],
   "source": [
    "#solution 2- use if else\n",
    "salary=42000\n",
    "da=0\n",
    "if salary > 50000:\n",
    "    da=.15            \n",
    "    total=salary + salary * da\n",
    "else:\n",
    "    total=salary\n",
    "print(f\"total salary is {total}\")\n",
    "\n"
   ]
  },
  {
   "cell_type": "code",
   "execution_count": null,
   "id": "9cdfd343",
   "metadata": {},
   "outputs": [
    {
     "name": "stdout",
     "output_type": "stream",
     "text": [
      "total salary is 42000\n"
     ]
    }
   ],
   "source": [
    "#solution 3- use if else with their own print\n",
    "salary=42000\n",
    "if salary > 50000:\n",
    "    da=.15            \n",
    "    total=salary + salary * da\n",
    "    print(f\"total salary is {total}\")\n",
    "else:\n",
    "    total=salary\n",
    "    print(f\"total salary is {total}\")\n",
    "\n"
   ]
  },
  {
   "cell_type": "code",
   "execution_count": 13,
   "id": "3f51bf62",
   "metadata": {},
   "outputs": [
    {
     "name": "stdout",
     "output_type": "stream",
     "text": [
      "100\n"
     ]
    }
   ],
   "source": [
    "x=int(input(\"enter the x value:\"))\n",
    "y=int(input(\"enter the y value:\"))\n",
    "if x>y:\n",
    "    a=x-y\n",
    "else:\n",
    "    a=y-x\n",
    "print(a)"
   ]
  },
  {
   "cell_type": "markdown",
   "id": "e4e461e7",
   "metadata": {},
   "source": []
  },
  {
   "cell_type": "code",
   "execution_count": 16,
   "id": "bde920fd",
   "metadata": {},
   "outputs": [
    {
     "name": "stdout",
     "output_type": "stream",
     "text": [
      "short movie name:bahubali\n",
      "the end\n"
     ]
    }
   ],
   "source": [
    "name=input(\"enter your fav movie\")\n",
    "if len(name)>10:\n",
    "    print(f\"long movie name:{name}\")\n",
    "else:\n",
    "    print(f\"short movie name:{name}\")\n",
    "print(\"the end\")"
   ]
  },
  {
   "cell_type": "markdown",
   "id": "f27927c9",
   "metadata": {},
   "source": [
    "Handling multiple conditions using if-elif"
   ]
  },
  {
   "cell_type": "code",
   "execution_count": 4,
   "id": "54f35691",
   "metadata": {},
   "outputs": [
    {
     "name": "stdout",
     "output_type": "stream",
     "text": [
      "what is the capital of India?\n",
      "you are very correct\n"
     ]
    }
   ],
   "source": [
    "print(\"what is the capital of India?\")\n",
    "answer=input(\"Answer\")\n",
    "if answer==\"Delhi\":\n",
    "    print(\"your are correct\")\n",
    "if answer==\"New Delhi\":\n",
    "    print(\"you are very correct\")\n",
    "if answer==(\"I dont know\"):\n",
    "    print(\"U must be sleeping under a rock\")\n",
    "if answer==\"shimla\":\n",
    "    print(\"you must be from britain\")"
   ]
  },
  {
   "cell_type": "code",
   "execution_count": 14,
   "id": "5715f7e5",
   "metadata": {},
   "outputs": [
    {
     "name": "stdout",
     "output_type": "stream",
     "text": [
      "your grade:B\n",
      "your grade:C\n",
      "your grade:D\n"
     ]
    }
   ],
   "source": [
    "marks=int(input(\"enter your total marks in 10th:\"))\n",
    "if marks>90 and marks<=100:\n",
    "    print(\"your grade:A\")\n",
    "if marks>75:\n",
    "    print(\"your grade:B\")\n",
    "if marks>60:\n",
    "    print(\"your grade:C\")\n",
    "if marks>40:\n",
    "    print(\"your grade:D\")\n",
    "if marks<40:\n",
    "    print(\"you failed ☠️\")"
   ]
  },
  {
   "cell_type": "code",
   "execution_count": 15,
   "id": "a23e1607",
   "metadata": {},
   "outputs": [
    {
     "name": "stdout",
     "output_type": "stream",
     "text": [
      "your grade:B\n"
     ]
    }
   ],
   "source": [
    "marks=int(input(\"enter your total marks in 10th:\"))\n",
    "if marks>90 and marks<=100:\n",
    "    print(\"your grade:A\")\n",
    "elif marks>75:\n",
    "    print(\"your grade:B\")\n",
    "elif marks>60:\n",
    "    print(\"your grade:C\")\n",
    "elif marks>40:\n",
    "    print(\"your grade:D\")\n",
    "elif marks<40:\n",
    "    print(\"you failed ☠️\")"
   ]
  },
  {
   "cell_type": "code",
   "execution_count": 16,
   "id": "cbb89828",
   "metadata": {},
   "outputs": [
    {
     "name": "stdout",
     "output_type": "stream",
     "text": [
      "your grade:B\n"
     ]
    }
   ],
   "source": [
    "#without elif\n",
    "marks=int(input(\"enter your total marks in 10th:\"))\n",
    "if marks>90 and marks<=100:\n",
    "    print(\"your grade:A\")\n",
    "if marks>75 and marks<90:\n",
    "    print(\"your grade:B\")\n",
    "if marks>60 and marks<75:\n",
    "    print(\"your grade:C\")\n",
    "if marks>40 and marks<60:\n",
    "    print(\"your grade:D\")\n",
    "if marks<40:\n",
    "    print(\"you failed ☠️\")"
   ]
  },
  {
   "cell_type": "code",
   "execution_count": 19,
   "id": "b8facb23",
   "metadata": {},
   "outputs": [
    {
     "name": "stdout",
     "output_type": "stream",
     "text": [
      "frnds salary=>80000\n",
      "frnds total=>76000.0\n"
     ]
    }
   ],
   "source": [
    "#salary calculator\n",
    "salary=int(input(\"enter your frnds salary:\"))\n",
    "if salary>100000:\n",
    "    total=salary-salary*.2\n",
    "elif salary>80000:\n",
    "    total=salary-salary* .1\n",
    "elif salary>50000:\n",
    "    total=salary-salary*.05\n",
    "else:\n",
    "    total=salary+10000\n",
    "print(f\"frnds salary=>{salary}\")\n",
    "print(f\"frnds total=>{total}\")"
   ]
  },
  {
   "cell_type": "code",
   "execution_count": 2,
   "id": "2b21fa84",
   "metadata": {},
   "outputs": [
    {
     "name": "stdout",
     "output_type": "stream",
     "text": [
      "its not an option\n"
     ]
    }
   ],
   "source": [
    "# match case\n",
    "day=input(\"what is the day today?\")\n",
    "match day:\n",
    "    case\"monday\":print(\"today is monday! boring\")\n",
    "    case\"sunday\":print(\"holiday\")\n",
    "    case\"friday\":print(\"waiting for the weekend\")\n",
    "    case\"saturday\":print(\"the best day of the week\")\n",
    "    case default:print(\"its not an option\")"
   ]
  },
  {
   "cell_type": "code",
   "execution_count": 5,
   "id": "d87dee89",
   "metadata": {},
   "outputs": [
    {
     "name": "stdout",
     "output_type": "stream",
     "text": [
      "tell me some movie\n",
      "Harrypotter series,lord of the ring series\n"
     ]
    }
   ],
   "source": [
    "print(\"tell me some movie\")\n",
    "genre=input(\"what genre do you like?\")\n",
    "match genre:\n",
    "    case\"action\":\n",
    "        print(\"avengers,deadpool,fast&furious\")\n",
    "    case\"horror\":\n",
    "        print(\"IT,nun,bhoot\")\n",
    "    case\"fantasy\":\n",
    "        print(\"Harrypotter series,lord of the ring series\")\n",
    "    case\"sci-fi\"|\"comedy\":\n",
    "        print(\"adam project,nimona,interstellar\")\n",
    "    case default:\n",
    "        print(\"you should not watch any movies\")"
   ]
  },
  {
   "cell_type": "code",
   "execution_count": 8,
   "id": "66f00d29",
   "metadata": {},
   "outputs": [
    {
     "name": "stdout",
     "output_type": "stream",
     "text": [
      "you escaped and find a lion\n",
      "you failed miserably and died\n"
     ]
    }
   ],
   "source": [
    "ans=input(\"you see a bear,would you like to fight it y/n?\")\n",
    "if ans==\"n\":\n",
    "    print(\"you escaped and find a lion\")\n",
    "    ans2=input(\"you want to fight it y/n?\")\n",
    "    if ans2==\"n\":\n",
    "        print(\"you escaped again,and find a car\")\n",
    "        ans3=input(\"you want to drive it y/n\")\n",
    "        if ans3==\"y\":\n",
    "            print(\"you escaped the area\")\n",
    "        else:\n",
    "            print(\"the bear &lion catch and kill you\")\n",
    "    else:\n",
    "        print(\"you failed miserably and died\")\n",
    "else:\n",
    "    print(\"the bear destroyed you\")\n",
    "\n"
   ]
  },
  {
   "cell_type": "code",
   "execution_count": 1,
   "id": "0300c674",
   "metadata": {},
   "outputs": [
    {
     "name": "stdout",
     "output_type": "stream",
     "text": [
      "the total is 28\n"
     ]
    }
   ],
   "source": [
    "a,b,c=10,5,23\n",
    "if a>b:\n",
    "    if a>c:\n",
    "        total=a+b+c\n",
    "        if total>100:\n",
    "            print(f\"the total is big value={total}\")\n",
    "        else:\n",
    "            print(f\"the total is small value={total}\")\n",
    "    else:\n",
    "        total=c+b\n",
    "        print(f\"the total is {total}\")\n",
    "else:\n",
    "    print(\"the total was not calculated\")\n",
    "    \n"
   ]
  },
  {
   "cell_type": "code",
   "execution_count": null,
   "id": "6689613c",
   "metadata": {},
   "outputs": [],
   "source": []
  }
 ],
 "metadata": {
  "kernelspec": {
   "display_name": "Python 3",
   "language": "python",
   "name": "python3"
  },
  "language_info": {
   "codemirror_mode": {
    "name": "ipython",
    "version": 3
   },
   "file_extension": ".py",
   "mimetype": "text/x-python",
   "name": "python",
   "nbconvert_exporter": "python",
   "pygments_lexer": "ipython3",
   "version": "3.13.6"
  }
 },
 "nbformat": 4,
 "nbformat_minor": 5
}
