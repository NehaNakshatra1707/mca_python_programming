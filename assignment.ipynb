{
 "cells": [
  {
   "cell_type": "code",
   "execution_count": 1,
   "id": "d10d906a",
   "metadata": {},
   "outputs": [
    {
     "name": "stdout",
     "output_type": "stream",
     "text": [
      "\n",
      "Before swapping\n",
      "a= 6\n",
      "b= 10\n",
      "\n",
      "After swapping\n",
      "a= 10\n",
      "b= 6\n"
     ]
    }
   ],
   "source": [
    "a=int(input(\"enter the value:\"))\n",
    "b=int(input(\"enter the value:\"))\n",
    "print(\"\\nBefore swapping\")\n",
    "print(\"a=\",a)\n",
    "print(\"b=\",b)\n",
    "temp=a\n",
    "a=b\n",
    "b=temp\n",
    "print(\"\\nAfter swapping\")\n",
    "print(\"a=\",a)\n",
    "print(\"b=\",b)"
   ]
  },
  {
   "cell_type": "code",
   "execution_count": 4,
   "id": "180137f4",
   "metadata": {},
   "outputs": [
    {
     "name": "stdout",
     "output_type": "stream",
     "text": [
      "result: 9\n"
     ]
    }
   ],
   "source": [
    "num1=input(\"enter the first value:\")\n",
    "operator=input(\"enter the operator(+,-,*,/):\")\n",
    "num2=input(\"enter the second value:\")\n",
    "\n",
    "result=eval(num1+operator+num2)\n",
    "print(\"result:\",result)"
   ]
  },
  {
   "cell_type": "code",
   "execution_count": 5,
   "id": "85ff7ffa",
   "metadata": {},
   "outputs": [
    {
     "name": "stdout",
     "output_type": "stream",
     "text": [
      "Name:neha,age:21years,height:162.2cm\n"
     ]
    }
   ],
   "source": [
    "name=str(input(\"enter the name:\"))\n",
    "age=int(input(\"enter the age:\"))\n",
    "height=float(input(\"enter the value:\"))\n",
    "print(f\"Name:{name},age:{age}years,height:{height}cm\")"
   ]
  },
  {
   "cell_type": "code",
   "execution_count": null,
   "id": "801c3bd6",
   "metadata": {},
   "outputs": [],
   "source": []
  }
 ],
 "metadata": {
  "kernelspec": {
   "display_name": "Python 3",
   "language": "python",
   "name": "python3"
  },
  "language_info": {
   "codemirror_mode": {
    "name": "ipython",
    "version": 3
   },
   "file_extension": ".py",
   "mimetype": "text/x-python",
   "name": "python",
   "nbconvert_exporter": "python",
   "pygments_lexer": "ipython3",
   "version": "3.13.6"
  }
 },
 "nbformat": 4,
 "nbformat_minor": 5
}
