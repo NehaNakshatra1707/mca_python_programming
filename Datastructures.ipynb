{
 "cells": [
  {
   "cell_type": "code",
   "execution_count": null,
   "id": "4558e852",
   "metadata": {},
   "outputs": [],
   "source": [
    "#data structures - list,tuple,set,dictionary\n",
    "#list-> mutable,indexed,heterogenous, duplicates allowed,represented by [] & list(),ordered data structure"
   ]
  },
  {
   "cell_type": "code",
   "execution_count": null,
   "id": "878c1775",
   "metadata": {},
   "outputs": [],
   "source": [
    "x=[]         #empty\n",
    "x=list()     #empty\n",
    "y=[1,2,3]    #direct initialization"
   ]
  },
  {
   "cell_type": "code",
   "execution_count": 4,
   "id": "2acc4f00",
   "metadata": {},
   "outputs": [
    {
     "name": "stdout",
     "output_type": "stream",
     "text": [
      "['apple', 'cherry', 'avacado']\n"
     ]
    }
   ],
   "source": [
    "z=[]\n",
    "z.append(\"apple\")     #add single value\n",
    "z.append(\"cherry\")\n",
    "z.append(\"avacado\")\n",
    "print(z)"
   ]
  },
  {
   "cell_type": "code",
   "execution_count": null,
   "id": "2eea8b7a",
   "metadata": {},
   "outputs": [
    {
     "name": "stdout",
     "output_type": "stream",
     "text": [
      "[1, 2, 3, 4, 5, 6]\n"
     ]
    }
   ],
   "source": [
    "x=[1,2,3]\n",
    "y=[4,5,6]\n",
    "z=x+y             #concatenate list\n",
    "print(z)"
   ]
  },
  {
   "cell_type": "code",
   "execution_count": 6,
   "id": "05405115",
   "metadata": {},
   "outputs": [
    {
     "name": "stdout",
     "output_type": "stream",
     "text": [
      "[1, 1, 1, 1, 1, 1, 1, 1, 1, 1]\n",
      "[1, 2, 1, 2, 1, 2, 1, 2, 1, 2]\n",
      "[1, 1, 1, 1, 1, 1, 1, 1, 1, 1, 1, 1, 1, 1, 1, 1, 1, 1, 1, 1]\n"
     ]
    }
   ],
   "source": [
    "#list of duplicate\n",
    "a=[1]*10     #cloning\n",
    "print(a)\n",
    "b=[1,2]*5\n",
    "c=a*2\n",
    "print(b)\n",
    "print(c)"
   ]
  },
  {
   "cell_type": "code",
   "execution_count": 7,
   "id": "3dd0ef11",
   "metadata": {},
   "outputs": [
    {
     "name": "stdout",
     "output_type": "stream",
     "text": [
      "[1, 1, 1, 1, 1, 1, 1, 1, 1, 1]\n",
      "1\n",
      "1\n",
      "1\n",
      "1\n",
      "1\n",
      "1\n",
      "1\n",
      "1\n",
      "1\n",
      "1\n",
      "1\n",
      "1 1\n"
     ]
    }
   ],
   "source": [
    "#displaying\n",
    "print(a)    #raw output\n",
    "#displaying single item at a time using loop\n",
    "for item in a:\n",
    "    print(item)\n",
    "#single element using index\n",
    "print(a[0])\n",
    "print(a[3],a[5])"
   ]
  },
  {
   "cell_type": "code",
   "execution_count": null,
   "id": "2bd88007",
   "metadata": {},
   "outputs": [],
   "source": [
    "students=[\"bhargav\",\"sameer\",\"srikanth\",\"yashwanth\",\"yashwanth\",\"vamsi\",\"ram\",\"ajay\",\"balaji\",\"abhi\",\"ruhi\",\"varsha\",\"sumitra\",\"lahari\",\"jyoshna\",\"meghana\",\"anjali\",\"sirisha\",\"sahithi\",\"geeta\"]"
   ]
  },
  {
   "cell_type": "code",
   "execution_count": 3,
   "id": "c3dc466c",
   "metadata": {},
   "outputs": [
    {
     "name": "stdout",
     "output_type": "stream",
     "text": [
      "['the way of king']\n",
      "['the way of king', 'the final empire', 'steelheart', 'legion']\n"
     ]
    }
   ],
   "source": [
    "books=[]\n",
    "#adding one item at a time\n",
    "books.append(\"the way of king\")\n",
    "print(books)\n",
    "books.append(\"the final empire\")\n",
    "books.append(\"steelheart\")\n",
    "books.append(\"legion\")\n",
    "print(books)"
   ]
  },
  {
   "cell_type": "code",
   "execution_count": 4,
   "id": "4d1d9181",
   "metadata": {},
   "outputs": [
    {
     "ename": "TypeError",
     "evalue": "list.append() takes exactly one argument (2 given)",
     "output_type": "error",
     "traceback": [
      "\u001b[31m---------------------------------------------------------------------------\u001b[39m",
      "\u001b[31mTypeError\u001b[39m                                 Traceback (most recent call last)",
      "\u001b[36mCell\u001b[39m\u001b[36m \u001b[39m\u001b[32mIn[4]\u001b[39m\u001b[32m, line 1\u001b[39m\n\u001b[32m----> \u001b[39m\u001b[32m1\u001b[39m \u001b[43mbooks\u001b[49m\u001b[43m.\u001b[49m\u001b[43mappend\u001b[49m\u001b[43m(\u001b[49m\u001b[33;43m\"\u001b[39;49m\u001b[33;43mharrypotter\u001b[39;49m\u001b[33;43m\"\u001b[39;49m\u001b[43m,\u001b[49m\u001b[33;43m\"\u001b[39;49m\u001b[33;43mjungle book\u001b[39;49m\u001b[33;43m\"\u001b[39;49m\u001b[43m)\u001b[49m\n",
      "\u001b[31mTypeError\u001b[39m: list.append() takes exactly one argument (2 given)"
     ]
    }
   ],
   "source": [
    "books.append(\"harrypotter\",\"jungle book\")"
   ]
  },
  {
   "cell_type": "code",
   "execution_count": 7,
   "id": "fad30520",
   "metadata": {},
   "outputs": [
    {
     "name": "stdout",
     "output_type": "stream",
     "text": [
      "['red', 'green', 'blue', 'yellow', 'black']\n"
     ]
    }
   ],
   "source": [
    "colors=[\"red\",\"green\",\"blue\"]\n",
    "colors.extend([\"yellow\",\"black\"])\n",
    "print(colors)"
   ]
  },
  {
   "cell_type": "code",
   "execution_count": 9,
   "id": "6446a546",
   "metadata": {},
   "outputs": [
    {
     "name": "stdout",
     "output_type": "stream",
     "text": [
      "['red', 'green', 'blue', 'yellow', 'black', 'purple', 'pink', 'yellow']\n"
     ]
    }
   ],
   "source": [
    "colors=[\"red\",\"green\",\"blue\"]\n",
    "colors.extend([\"yellow\",\"black\"])\n",
    "colors2=[\"purple\",\"pink\",\"yellow\"]\n",
    "colors.extend(colors2)\n",
    "print(colors)"
   ]
  },
  {
   "cell_type": "code",
   "execution_count": 10,
   "id": "5b654926",
   "metadata": {},
   "outputs": [
    {
     "name": "stdout",
     "output_type": "stream",
     "text": [
      "[1, 2, 3, 4, 5, 6, 7, 8, 9, 10]\n"
     ]
    }
   ],
   "source": [
    "nums=[]\n",
    "for i in range(1,11):\n",
    "    nums.append(i)\n",
    "print(nums)"
   ]
  },
  {
   "cell_type": "code",
   "execution_count": 14,
   "id": "10351fba",
   "metadata": {},
   "outputs": [
    {
     "name": "stdout",
     "output_type": "stream",
     "text": [
      "['ddlj', 'yjhd', 'eega', 'rrr', 'animal']\n"
     ]
    }
   ],
   "source": [
    "movies=[]\n",
    "for i in range(5):\n",
    "    value=input(\"enter movie names\")\n",
    "    movies.append(value)\n",
    "print(movies)"
   ]
  },
  {
   "cell_type": "code",
   "execution_count": 19,
   "id": "b80506e4",
   "metadata": {},
   "outputs": [
    {
     "name": "stdout",
     "output_type": "stream",
     "text": [
      "[1, 2, 5, 10]\n",
      "[1, 2, 3, 5, 10]\n",
      "[1, 2, 3, 5, 9, 10]\n"
     ]
    }
   ],
   "source": [
    "x=[1,5,10]\n",
    "x.insert(1,2)   #insert(index,value)\n",
    "print(x)\n",
    "x.insert(2,3)\n",
    "print(x)\n",
    "x.insert(4,9)\n",
    "print(x)"
   ]
  },
  {
   "cell_type": "code",
   "execution_count": null,
   "id": "60f0fcb1",
   "metadata": {},
   "outputs": [],
   "source": [
    "#list methods-11 methods\n",
    "-adding elements:\n",
    "1.append()- add one element to the end of the list\n",
    "2.insert()- add one element to a specific position\n",
    "3.extend()-append multiple items in a list\n",
    "-removing elements:\n",
    "1.remove()-remove the first occurence of a value\n",
    "2.pop()- remove and return an element from an index\n",
    "3.clear()-remove all elements from the list\n",
    "-utility methods:\n",
    "1.count()\n",
    "2.index()\n",
    "3.sort()\n",
    "4.reverse()\n",
    "5.copy()"
   ]
  },
  {
   "cell_type": "code",
   "execution_count": 6,
   "id": "fb57fdd0",
   "metadata": {},
   "outputs": [
    {
     "name": "stdout",
     "output_type": "stream",
     "text": [
      "size of book list 10\n"
     ]
    }
   ],
   "source": [
    "books=[\"one indian girl\",\"2 states\",\"the educated\",\"to kill a mocking bird\",\"ikigai\",\"do epic shit\",\"subtle art of not giving a f\",\"emma\",\"7 wonders\",\"revolution 2020\"]\n",
    "print(\"size of book list\",len(books))"
   ]
  },
  {
   "cell_type": "code",
   "execution_count": 7,
   "id": "e5183aa8",
   "metadata": {},
   "outputs": [
    {
     "name": "stdout",
     "output_type": "stream",
     "text": [
      "['2 states', 'the educated', 'to kill a mocking bird', 'ikigai', 'do epic shit', 'subtle art of not giving a f', 'emma', '7 wonders', 'revolution 2020']\n"
     ]
    }
   ],
   "source": [
    "books.remove(\"one indian girl\")\n",
    "print(books)"
   ]
  },
  {
   "cell_type": "code",
   "execution_count": 8,
   "id": "c7a1fd87",
   "metadata": {},
   "outputs": [
    {
     "name": "stdout",
     "output_type": "stream",
     "text": [
      "['2 states', 'the educated', 'to kill a mocking bird', 'ikigai', 'do epic shit', 'subtle art of not giving a f', '7 wonders', 'revolution 2020']\n"
     ]
    }
   ],
   "source": [
    "#validation based removal\n",
    "if \"emma\" in books:\n",
    "    books.remove(\"emma\")\n",
    "print(books)"
   ]
  },
  {
   "cell_type": "code",
   "execution_count": 10,
   "id": "2144e376",
   "metadata": {},
   "outputs": [
    {
     "name": "stdout",
     "output_type": "stream",
     "text": [
      "['2 states', 'the educated', 'to kill a mocking bird', 'ikigai', 'do epic shit', 'subtle art of not giving a f', '7 wonders', 'revolution 2020']\n"
     ]
    },
    {
     "data": {
      "text/plain": [
       "8"
      ]
     },
     "execution_count": 10,
     "metadata": {},
     "output_type": "execute_result"
    }
   ],
   "source": [
    "print(books)\n",
    "len(books)"
   ]
  },
  {
   "cell_type": "code",
   "execution_count": 11,
   "id": "5f62a249",
   "metadata": {},
   "outputs": [
    {
     "data": {
      "text/plain": [
       "'ikigai'"
      ]
     },
     "execution_count": 11,
     "metadata": {},
     "output_type": "execute_result"
    }
   ],
   "source": [
    "books.pop(3)"
   ]
  },
  {
   "cell_type": "code",
   "execution_count": 12,
   "id": "2b92e13f",
   "metadata": {},
   "outputs": [
    {
     "data": {
      "text/plain": [
       "'revolution 2020'"
      ]
     },
     "execution_count": 12,
     "metadata": {},
     "output_type": "execute_result"
    }
   ],
   "source": [
    "books.pop()"
   ]
  },
  {
   "cell_type": "code",
   "execution_count": 13,
   "id": "d2e1d0b6",
   "metadata": {},
   "outputs": [
    {
     "name": "stdout",
     "output_type": "stream",
     "text": [
      "[]\n"
     ]
    }
   ],
   "source": [
    "books.clear()\n",
    "print(books)"
   ]
  },
  {
   "cell_type": "code",
   "execution_count": 5,
   "id": "86de50a2",
   "metadata": {},
   "outputs": [
    {
     "name": "stdout",
     "output_type": "stream",
     "text": [
      "['c', 'python', 'kotlin', 'java', 'dart', 'go', 'c++', 'c#', 'html', 'javascript', 'scalar', 'rust', 'mojo', 'assembly']\n",
      "[12, 56, 23, 67, 13, 23, 12, 56, 23, 56, 12, 34, 23, 23, 12, 34, 34, 23, 53, 92]\n",
      "[1, 'apple', 2, 'avacado', 3, 'apricot']\n"
     ]
    }
   ],
   "source": [
    "languages=[\"c\",\"python\",\"kotlin\",\"java\",\"dart\",\"go\",\"c++\",\"c#\",\"html\",\"javascript\",\"scalar\",\"rust\",\"mojo\",\"assembly\"]\n",
    "print(languages)\n",
    "len(languages)\n",
    "numbers=[12,56,23,67,13,23,12,56,23,56,12,34,23,23,12,34,34,23,53,92]\n",
    "print(numbers)\n",
    "data=[1,\"apple\",2,\"avacado\",3,\"apricot\"]\n",
    "print(data)\n",
    "\n"
   ]
  },
  {
   "cell_type": "code",
   "execution_count": 6,
   "id": "8698c251",
   "metadata": {},
   "outputs": [
    {
     "data": {
      "text/plain": [
       "4"
      ]
     },
     "execution_count": 6,
     "metadata": {},
     "output_type": "execute_result"
    }
   ],
   "source": [
    "numbers.count(12)   #counts how many times 12 occurs in list\n"
   ]
  },
  {
   "cell_type": "code",
   "execution_count": 7,
   "id": "e4caf245",
   "metadata": {},
   "outputs": [
    {
     "name": "stdout",
     "output_type": "stream",
     "text": [
      "0\n",
      "6\n",
      "3\n"
     ]
    }
   ],
   "source": [
    "print(numbers.count(1))\n",
    "print(numbers.count(23))\n",
    "print(numbers.count(56)) "
   ]
  },
  {
   "cell_type": "code",
   "execution_count": 8,
   "id": "2cd94664",
   "metadata": {},
   "outputs": [
    {
     "data": {
      "text/plain": [
       "2"
      ]
     },
     "execution_count": 8,
     "metadata": {},
     "output_type": "execute_result"
    }
   ],
   "source": [
    "languages.index(\"kotlin\")"
   ]
  },
  {
   "cell_type": "code",
   "execution_count": 24,
   "id": "c1b696e8",
   "metadata": {},
   "outputs": [
    {
     "name": "stdout",
     "output_type": "stream",
     "text": [
      "0\n",
      "3\n",
      "1\n",
      "4\n"
     ]
    }
   ],
   "source": [
    "print(languages.index(\"c\"))\n",
    "print(languages.index(\"java\"))\n",
    "print(languages.index(\"python\"))\n",
    "print(languages.index(\"dart\"))\n"
   ]
  },
  {
   "cell_type": "code",
   "execution_count": 9,
   "id": "0286d5ea",
   "metadata": {},
   "outputs": [
    {
     "name": "stdout",
     "output_type": "stream",
     "text": [
      "original ['c', 'python', 'kotlin', 'java', 'dart', 'go', 'c++', 'c#', 'html', 'javascript', 'scalar', 'rust', 'mojo', 'assembly']\n",
      "sorted ['assembly', 'c', 'c#', 'c++', 'dart', 'go', 'html', 'java', 'javascript', 'kotlin', 'mojo', 'python', 'rust', 'scalar']\n",
      "sorted in reverse ['scalar', 'rust', 'python', 'mojo', 'kotlin', 'javascript', 'java', 'html', 'go', 'dart', 'c++', 'c#', 'c', 'assembly']\n"
     ]
    }
   ],
   "source": [
    "print(\"original\",languages)\n",
    "languages.sort()  #sort in A-Z\n",
    "print(\"sorted\",languages)\n",
    "languages.sort(reverse=True)      #sort in reverse\n",
    "print(\"sorted in reverse\",languages)\n",
    "\n"
   ]
  },
  {
   "cell_type": "code",
   "execution_count": 10,
   "id": "1ae941bb",
   "metadata": {},
   "outputs": [
    {
     "name": "stdout",
     "output_type": "stream",
     "text": [
      "original [1, 'apple', 2, 'avacado', 3, 'apricot']\n",
      "reversed ['apricot', 3, 'avacado', 2, 'apple', 1]\n"
     ]
    }
   ],
   "source": [
    "print(\"original\",data)\n",
    "data.reverse()\n",
    "print(\"reversed\",data) "
   ]
  },
  {
   "cell_type": "code",
   "execution_count": 1,
   "id": "61b81532",
   "metadata": {},
   "outputs": [
    {
     "name": "stdout",
     "output_type": "stream",
     "text": [
      "[]\n",
      "[[]]\n"
     ]
    }
   ],
   "source": [
    "#nested list- list within a list\n",
    "x=[]\n",
    "x2=[[]]\n",
    "\n",
    "print(x)\n",
    "print(x2)\n"
   ]
  },
  {
   "cell_type": "code",
   "execution_count": 2,
   "id": "7e95f818",
   "metadata": {},
   "outputs": [
    {
     "name": "stdout",
     "output_type": "stream",
     "text": [
      "[1, 2, 3]\n"
     ]
    }
   ],
   "source": [
    "x.append(1)\n",
    "x.append(2)\n",
    "x.append(3)\n",
    "print(x)"
   ]
  },
  {
   "cell_type": "code",
   "execution_count": 3,
   "id": "abb02f72",
   "metadata": {},
   "outputs": [
    {
     "name": "stdout",
     "output_type": "stream",
     "text": [
      "[[], 1, [1, 2, 3], [4, 5, 6]]\n"
     ]
    }
   ],
   "source": [
    "x2.append(1)\n",
    "x2.append([1,2,3])\n",
    "x2.append([4,5,6])\n",
    "print(x2)"
   ]
  },
  {
   "cell_type": "code",
   "execution_count": 5,
   "id": "7b12e97c",
   "metadata": {},
   "outputs": [
    {
     "name": "stdout",
     "output_type": "stream",
     "text": [
      "[['red', 'green', 'blue'], ['apple', 'guava', 'blueberry'], [150, 100, 300]]\n",
      "size of list 3\n",
      "size of list at index 0 is 3 -> ['red', 'green', 'blue']\n",
      "size of list at index 1 is 3 -> ['apple', 'guava', 'blueberry']\n",
      "size of list at index 2 is 3 -> [150, 100, 300]\n",
      "element 0 as list 0 is red\n",
      "element 2 as list 0 is blue\n",
      "element 0 as list 1 is apple\n",
      "element 1 as list 1 is guava\n"
     ]
    }
   ],
   "source": [
    "items=[\n",
    "    [\"red\",\"green\",\"blue\"],\n",
    "    [\"apple\",\"guava\",\"blueberry\"],\n",
    "    [150,100,300]\n",
    "]\n",
    "print(items)\n",
    "print(\"size of list\",len(items))\n",
    "print(\"size of list at index 0 is\",len(items[0]),\"->\",items[0])\n",
    "print(\"size of list at index 1 is\",len(items[1]),\"->\",items[1])\n",
    "print(\"size of list at index 2 is\",len(items[2]),\"->\",items[2])\n",
    "print(\"element 0 as list 0 is\",items[0][0])\n",
    "print(\"element 2 as list 0 is\",items[0][2])\n",
    "print(\"element 0 as list 1 is\",items[1][0])\n",
    "print(\"element 1 as list 1 is\",items[1][1])\n",
    "\n",
    "      \n",
    "      "
   ]
  },
  {
   "cell_type": "code",
   "execution_count": 8,
   "id": "072d10ee",
   "metadata": {},
   "outputs": [
    {
     "name": "stdout",
     "output_type": "stream",
     "text": [
      "[[12, 23, 45, 25], [85, 95, 25, 15], [30, 32, 35, 5]]\n",
      "size of list 3\n",
      "size of list at index 0 is 4 -> [12, 23, 45, 25]\n",
      "size of list at index 1 is 4 -> [85, 95, 25, 15]\n",
      "size of list at index 2 is 4 -> [30, 32, 35, 5]\n",
      "element 1 as list 1 is 95\n",
      "element 2 as list 0 is 45\n",
      "element 0 as list 1 is 85\n",
      "element 0 as list 0 is 12\n"
     ]
    }
   ],
   "source": [
    "matrix=[[12,23,45,25],[85,95,25,15],[30,32,35,5]]\n",
    "print(matrix)\n",
    "print(\"size of list\",len(matrix))\n",
    "print(\"size of list at index 0 is\",len(matrix[0]),\"->\",matrix[0])\n",
    "print(\"size of list at index 1 is\",len(matrix[1]),\"->\",matrix[1])\n",
    "print(\"size of list at index 2 is\",len(matrix[2]),\"->\",matrix[2])\n",
    "print(\"element 1 as list 1 is\",matrix[1][1])\n",
    "print(\"element 2 as list 0 is\",matrix[0][2])\n",
    "print(\"element 0 as list 1 is\",matrix[1][0])\n",
    "print(\"element 0 as list 0 is\",matrix[0][0])\n"
   ]
  },
  {
   "cell_type": "code",
   "execution_count": 10,
   "id": "a3f67a02",
   "metadata": {},
   "outputs": [
    {
     "name": "stdout",
     "output_type": "stream",
     "text": [
      "[12, 23, 45, 25]\n",
      "[85, 95, 25, 15]\n",
      "[30, 32, 35, 5]\n"
     ]
    }
   ],
   "source": [
    "for row in matrix:\n",
    "    print(row)"
   ]
  },
  {
   "cell_type": "code",
   "execution_count": 11,
   "id": "cd80df8f",
   "metadata": {},
   "outputs": [
    {
     "name": "stdout",
     "output_type": "stream",
     "text": [
      "12 23 45 25 85 95 25 15 30 32 35 5 "
     ]
    }
   ],
   "source": [
    "#nested loop for nested list\n",
    "for row in matrix:\n",
    "    for val in row:\n",
    "        print(val,end=\" \")"
   ]
  },
  {
   "cell_type": "code",
   "execution_count": null,
   "id": "0cf72324",
   "metadata": {},
   "outputs": [
    {
     "name": "stdout",
     "output_type": "stream",
     "text": [
      "12 23 45 25 \n",
      "85 95 25 15 \n",
      "30 32 35 5 \n"
     ]
    }
   ],
   "source": [
    "for row in matrix:\n",
    "    for val in row:\n",
    "        print(val,end=\" \")\n",
    "    print()  #change line after each row"
   ]
  },
  {
   "cell_type": "code",
   "execution_count": null,
   "id": "009b1603",
   "metadata": {},
   "outputs": [
    {
     "name": "stdout",
     "output_type": "stream",
     "text": [
      "427\n"
     ]
    }
   ],
   "source": [
    "total=0                  #sum of matrix\n",
    "for row in matrix:\n",
    "    for val in row:\n",
    "        total +=val\n",
    "print(total)"
   ]
  },
  {
   "cell_type": "code",
   "execution_count": null,
   "id": "0529fa7c",
   "metadata": {},
   "outputs": [
    {
     "name": "stdout",
     "output_type": "stream",
     "text": [
      "157959112500000000\n"
     ]
    }
   ],
   "source": [
    "total=1                     #product of matrix\n",
    "for row in matrix:\n",
    "    for val in row:\n",
    "        total *=val\n",
    "print(total)\n"
   ]
  },
  {
   "cell_type": "code",
   "execution_count": null,
   "id": "abcc0f42",
   "metadata": {},
   "outputs": [
    {
     "name": "stdout",
     "output_type": "stream",
     "text": [
      "[12, 23, 45, 25] => 105\n",
      "[85, 95, 25, 15] => 220\n",
      "[30, 32, 35, 5] => 102\n"
     ]
    }
   ],
   "source": [
    "for row in matrix:                        #sum of matrix row\n",
    "    total=0\n",
    "    for value in row:\n",
    "        total += value\n",
    "    print(row,'=>',total)"
   ]
  },
  {
   "cell_type": "code",
   "execution_count": null,
   "id": "b5b7c7b0",
   "metadata": {},
   "outputs": [
    {
     "name": "stdout",
     "output_type": "stream",
     "text": [
      "[12, 23, 45, 25] -> 26.2\n",
      "[85, 95, 25, 15] -> 55.0\n",
      "[30, 32, 35, 5] -> 25.5\n"
     ]
    }
   ],
   "source": [
    "for row in matrix:                        #average\n",
    "    total=0\n",
    "    for value in row:\n",
    "        total += value\n",
    "    avg=round(total/len(row),1)\n",
    "    print(row,\"->\",avg)\n",
    "        "
   ]
  },
  {
   "cell_type": "code",
   "execution_count": 18,
   "id": "1c353a2f",
   "metadata": {},
   "outputs": [
    {
     "name": "stdout",
     "output_type": "stream",
     "text": [
      "[12, 23, 45, 25] -> 25.5\n",
      "[85, 95, 25, 15] -> 25.5\n",
      "[30, 32, 35, 5] -> 25.5\n"
     ]
    }
   ],
   "source": [
    "#other way\n",
    "for row in matrix:                        #average\n",
    "    total=0\n",
    "    for value in row:\n",
    "        total += value/len(row)\n",
    "    print(row,\"->\",avg)"
   ]
  },
  {
   "cell_type": "code",
   "execution_count": 22,
   "id": "e8e9060b",
   "metadata": {},
   "outputs": [
    {
     "name": "stdout",
     "output_type": "stream",
     "text": [
      "column0=>127\n",
      "column1=>150\n",
      "column2=>105\n",
      "column3=>45\n"
     ]
    }
   ],
   "source": [
    "#column wise sum of matrix\n",
    "size=len(matrix[0])\n",
    "for c in range(size):\n",
    "    total=0\n",
    "    for r in range(len(matrix)):\n",
    "        total += matrix[r][c]\n",
    "    print(f\"column{c}=>{total}\")"
   ]
  },
  {
   "cell_type": "code",
   "execution_count": 23,
   "id": "2dffea58",
   "metadata": {},
   "outputs": [
    {
     "name": "stdout",
     "output_type": "stream",
     "text": [
      "column0=>42.33333333333333\n",
      "column1=>50.0\n",
      "column2=>35.0\n",
      "column3=>15.0\n"
     ]
    }
   ],
   "source": [
    "size=len(matrix[0])\n",
    "for c in range(size):\n",
    "    total=0\n",
    "    for r in range(len(matrix)):\n",
    "        total += matrix[r][c]/len(matrix)\n",
    "    print(f\"column{c}=>{total}\")"
   ]
  },
  {
   "cell_type": "code",
   "execution_count": 2,
   "id": "7257a6c0",
   "metadata": {},
   "outputs": [
    {
     "data": {
      "text/plain": [
       "[11, 12, 13]"
      ]
     },
     "execution_count": 2,
     "metadata": {},
     "output_type": "execute_result"
    }
   ],
   "source": [
    "#slicing\n",
    "x=[11,12,13,15,19]\n",
    "x[0:3]"
   ]
  },
  {
   "cell_type": "code",
   "execution_count": 3,
   "id": "68684cfc",
   "metadata": {},
   "outputs": [
    {
     "data": {
      "text/plain": [
       "19"
      ]
     },
     "execution_count": 3,
     "metadata": {},
     "output_type": "execute_result"
    }
   ],
   "source": [
    "x[-1]"
   ]
  },
  {
   "cell_type": "code",
   "execution_count": 4,
   "id": "f5fa668f",
   "metadata": {},
   "outputs": [
    {
     "data": {
      "text/plain": [
       "[13, 15, 19]"
      ]
     },
     "execution_count": 4,
     "metadata": {},
     "output_type": "execute_result"
    }
   ],
   "source": [
    "x=[11,12,13,15,19]\n",
    "x[2:5]"
   ]
  },
  {
   "cell_type": "code",
   "execution_count": 5,
   "id": "75ff96fe",
   "metadata": {},
   "outputs": [
    {
     "data": {
      "text/plain": [
       "[13, 15, 19]"
      ]
     },
     "execution_count": 5,
     "metadata": {},
     "output_type": "execute_result"
    }
   ],
   "source": [
    "x[2:len(x)]"
   ]
  },
  {
   "cell_type": "code",
   "execution_count": 11,
   "id": "e485b0b3",
   "metadata": {},
   "outputs": [
    {
     "data": {
      "text/plain": [
       "['a', 't']"
      ]
     },
     "execution_count": 11,
     "metadata": {},
     "output_type": "execute_result"
    }
   ],
   "source": [
    "x=[\"e\",\"d\",\"u\",\"c\",\"a\",\"t\",\"i\",\"o\",\"n\"]\n",
    "x[3:6]\n",
    "x[-5:-3]\n",
    "x[3:-3]\n",
    "x[-5:6]\n"
   ]
  },
  {
   "cell_type": "code",
   "execution_count": 21,
   "id": "f11a2bec",
   "metadata": {},
   "outputs": [
    {
     "data": {
      "text/plain": [
       "'shake'"
      ]
     },
     "execution_count": 21,
     "metadata": {},
     "output_type": "execute_result"
    }
   ],
   "source": [
    "name=\"william shakespeare\"\n",
    "len(name)\n",
    "name[8:13]\n",
    "name[8:-6]"
   ]
  },
  {
   "cell_type": "code",
   "execution_count": 24,
   "id": "348da32c",
   "metadata": {},
   "outputs": [
    {
     "data": {
      "text/plain": [
       "'pear'"
      ]
     },
     "execution_count": 24,
     "metadata": {},
     "output_type": "execute_result"
    }
   ],
   "source": [
    "name[3:7]\n",
    "name[-5:-1]"
   ]
  },
  {
   "cell_type": "code",
   "execution_count": 27,
   "id": "57275c42",
   "metadata": {},
   "outputs": [
    {
     "data": {
      "text/plain": [
       "'william'"
      ]
     },
     "execution_count": 27,
     "metadata": {},
     "output_type": "execute_result"
    }
   ],
   "source": [
    "name[:7]\n"
   ]
  },
  {
   "cell_type": "code",
   "execution_count": 26,
   "id": "bd18eaf3",
   "metadata": {},
   "outputs": [
    {
     "data": {
      "text/plain": [
       "'shakespeare'"
      ]
     },
     "execution_count": 26,
     "metadata": {},
     "output_type": "execute_result"
    }
   ],
   "source": [
    "name[8:]"
   ]
  },
  {
   "cell_type": "code",
   "execution_count": 28,
   "id": "52a691ec",
   "metadata": {},
   "outputs": [
    {
     "name": "stdout",
     "output_type": "stream",
     "text": [
      "william\n",
      "shakespeare\n"
     ]
    }
   ],
   "source": [
    "fname=name[:7]\n",
    "lname=name[8:]\n",
    "print(fname)\n",
    "print(lname)"
   ]
  },
  {
   "cell_type": "code",
   "execution_count": 29,
   "id": "7624fe10",
   "metadata": {},
   "outputs": [
    {
     "data": {
      "text/plain": [
       "'nh asar'"
      ]
     },
     "execution_count": 29,
     "metadata": {},
     "output_type": "execute_result"
    }
   ],
   "source": [
    "name=\"neha nakshatra\"\n",
    "name[0:len(name):2]"
   ]
  },
  {
   "cell_type": "code",
   "execution_count": null,
   "id": "aa2c23c1",
   "metadata": {},
   "outputs": [
    {
     "data": {
      "text/plain": [
       "'nh asar'"
      ]
     },
     "execution_count": 30,
     "metadata": {},
     "output_type": "execute_result"
    }
   ],
   "source": [
    "name[::2]  #even item"
   ]
  },
  {
   "cell_type": "code",
   "execution_count": null,
   "id": "90be07b0",
   "metadata": {},
   "outputs": [
    {
     "data": {
      "text/plain": [
       "'eankhta'"
      ]
     },
     "execution_count": 31,
     "metadata": {},
     "output_type": "execute_result"
    }
   ],
   "source": [
    "name[1::2]    #odd item"
   ]
  },
  {
   "cell_type": "code",
   "execution_count": 8,
   "id": "e847a0c5",
   "metadata": {},
   "outputs": [
    {
     "name": "stdout",
     "output_type": "stream",
     "text": [
      "vijay\n",
      "deenanath \n",
      "chauhan\n"
     ]
    }
   ],
   "source": [
    "name=\"vijay deenanath chauhan\"\n",
    "fname=name[:5]\n",
    "mname=name[6:16]\n",
    "lname=name[-7:]\n",
    "print(fname)\n",
    "print(mname)\n",
    "print(lname)"
   ]
  },
  {
   "cell_type": "code",
   "execution_count": null,
   "id": "d252ecd3",
   "metadata": {},
   "outputs": [],
   "source": [
    "name[::2]   #even\n",
    "name[1::2]  #odd\n",
    "name[::-1]   #reverse a string"
   ]
  },
  {
   "cell_type": "code",
   "execution_count": 9,
   "id": "daa27897",
   "metadata": {},
   "outputs": [
    {
     "data": {
      "text/plain": [
       "'ydder artahskan ahen'"
      ]
     },
     "execution_count": 9,
     "metadata": {},
     "output_type": "execute_result"
    }
   ],
   "source": [
    "name=\"neha nakshatra reddy\"\n",
    "name[::-1]"
   ]
  },
  {
   "cell_type": "code",
   "execution_count": null,
   "id": "e68508ad",
   "metadata": {},
   "outputs": [
    {
     "name": "stdout",
     "output_type": "stream",
     "text": [
      "13\n",
      "11\n",
      "9\n",
      "7\n",
      "6\n",
      "4\n",
      "3\n",
      "2\n",
      "1\n"
     ]
    }
   ],
   "source": [
    "#reverse print element\n",
    "x=[1,2,3,4,6,7,9,11,13]\n",
    "for item in x[::-1]:\n",
    "    print(item)"
   ]
  },
  {
   "cell_type": "code",
   "execution_count": 12,
   "id": "229815db",
   "metadata": {},
   "outputs": [
    {
     "name": "stdout",
     "output_type": "stream",
     "text": [
      "[3, 2, 1]\n"
     ]
    }
   ],
   "source": [
    "#reverse list in place\n",
    "a=[1,2,3]\n",
    "a[:]   #get all element\n",
    "a[:]=a[::-1]\n",
    "print(a)"
   ]
  },
  {
   "cell_type": "code",
   "execution_count": 14,
   "id": "1997da88",
   "metadata": {},
   "outputs": [
    {
     "name": "stdout",
     "output_type": "stream",
     "text": [
      "[1, 2, 3, 4, 5] [3, 4, 5, 1, 2]\n"
     ]
    }
   ],
   "source": [
    "#rotate list\n",
    "x=[1,2,3,4,5]\n",
    "ans=x[2:]+x[:2]\n",
    "print(x,ans)"
   ]
  },
  {
   "cell_type": "code",
   "execution_count": null,
   "id": "65a97a3f",
   "metadata": {},
   "outputs": [
    {
     "name": "stdout",
     "output_type": "stream",
     "text": [
      "[1, 3, 4, 5] [2, 6, 8, 10]\n"
     ]
    }
   ],
   "source": [
    "x=[1,3,4,5]\n",
    "x2=[]\n",
    "for i in x:\n",
    "    s=i*2\n",
    "    x2.append(s)\n",
    "print(x,x2)    "
   ]
  },
  {
   "cell_type": "code",
   "execution_count": 20,
   "id": "722d3e5f",
   "metadata": {},
   "outputs": [
    {
     "name": "stdout",
     "output_type": "stream",
     "text": [
      "[4, 8, 12, 16] [2, 4, 6, 8]\n"
     ]
    }
   ],
   "source": [
    "x=[4,8,12,16]\n",
    "x3=[]\n",
    "for i in x:\n",
    "    x3.append(i//2)\n",
    "print(x,x3)"
   ]
  },
  {
   "cell_type": "code",
   "execution_count": 21,
   "id": "330dd5df",
   "metadata": {},
   "outputs": [
    {
     "name": "stdout",
     "output_type": "stream",
     "text": [
      "[1, 2, 3]\n",
      "[4, 5, 6]\n",
      "[5, 7, 9]\n"
     ]
    }
   ],
   "source": [
    "x=[1,2,3]\n",
    "y=[4,5,6]\n",
    "xy=[]\n",
    "for i,j in zip(x,y):\n",
    "    xy.append(i+j)\n",
    "print(x,y,xy,sep=\"\\n\")"
   ]
  },
  {
   "cell_type": "code",
   "execution_count": 23,
   "id": "fd014474",
   "metadata": {},
   "outputs": [
    {
     "name": "stdout",
     "output_type": "stream",
     "text": [
      "[2, 3, 4] [4, 9, 16]\n"
     ]
    }
   ],
   "source": [
    "z=[2,3,4]\n",
    "zsqr=[]\n",
    "for i in z:\n",
    "    zsqr.append(i**2)\n",
    "print(z,zsqr)"
   ]
  },
  {
   "cell_type": "code",
   "execution_count": 26,
   "id": "c34d07f8",
   "metadata": {},
   "outputs": [
    {
     "name": "stdout",
     "output_type": "stream",
     "text": [
      "[1, 2, 3] [2, 4, 6]\n"
     ]
    }
   ],
   "source": [
    "#comprehension  - way in python that do all the above process in a single line\n",
    "y=[1,2,3]\n",
    "y2=[i*2 for i in y]\n",
    "print(y,y2)"
   ]
  },
  {
   "cell_type": "code",
   "execution_count": null,
   "id": "54f8aced",
   "metadata": {},
   "outputs": [],
   "source": []
  }
 ],
 "metadata": {
  "kernelspec": {
   "display_name": "Python 3",
   "language": "python",
   "name": "python3"
  },
  "language_info": {
   "codemirror_mode": {
    "name": "ipython",
    "version": 3
   },
   "file_extension": ".py",
   "mimetype": "text/x-python",
   "name": "python",
   "nbconvert_exporter": "python",
   "pygments_lexer": "ipython3",
   "version": "3.13.6"
  }
 },
 "nbformat": 4,
 "nbformat_minor": 5
}
